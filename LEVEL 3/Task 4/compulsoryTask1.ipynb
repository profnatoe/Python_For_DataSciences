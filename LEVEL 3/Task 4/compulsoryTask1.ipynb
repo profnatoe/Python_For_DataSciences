{
 "metadata": {
  "language_info": {
   "codemirror_mode": {
    "name": "ipython",
    "version": 3
   },
   "file_extension": ".py",
   "mimetype": "text/x-python",
   "name": "python",
   "nbconvert_exporter": "python",
   "pygments_lexer": "ipython3",
   "version": "3.8.3-final"
  },
  "orig_nbformat": 2,
  "kernelspec": {
   "name": "python3",
   "display_name": "Python 3"
  }
 },
 "nbformat": 4,
 "nbformat_minor": 2,
 "cells": [
  {
   "cell_type": "code",
   "execution_count": 109,
   "metadata": {},
   "outputs": [
    {
     "output_type": "execute_result",
     "data": {
      "text/plain": [
       "      Id  SepalLengthCm  SepalWidthCm  PetalLengthCm  PetalWidthCm  \\\n",
       "0      1            5.1           3.5            1.4           0.2   \n",
       "1      2            4.9           3.0            1.4           0.2   \n",
       "2      3            4.7           3.2            1.3           0.2   \n",
       "3      4            4.6           3.1            1.5           0.2   \n",
       "4      5            5.0           3.6            1.4           0.2   \n",
       "..   ...            ...           ...            ...           ...   \n",
       "145  146            6.7           3.0            5.2           2.3   \n",
       "146  147            6.3           2.5            5.0           1.9   \n",
       "147  148            6.5           3.0            5.2           2.0   \n",
       "148  149            6.2           3.4            5.4           2.3   \n",
       "149  150            5.9           3.0            5.1           1.8   \n",
       "\n",
       "            Species  \n",
       "0       Iris-setosa  \n",
       "1       Iris-setosa  \n",
       "2       Iris-setosa  \n",
       "3       Iris-setosa  \n",
       "4       Iris-setosa  \n",
       "..              ...  \n",
       "145  Iris-virginica  \n",
       "146  Iris-virginica  \n",
       "147  Iris-virginica  \n",
       "148  Iris-virginica  \n",
       "149  Iris-virginica  \n",
       "\n",
       "[150 rows x 6 columns]"
      ],
      "text/html": "<div>\n<style scoped>\n    .dataframe tbody tr th:only-of-type {\n        vertical-align: middle;\n    }\n\n    .dataframe tbody tr th {\n        vertical-align: top;\n    }\n\n    .dataframe thead th {\n        text-align: right;\n    }\n</style>\n<table border=\"1\" class=\"dataframe\">\n  <thead>\n    <tr style=\"text-align: right;\">\n      <th></th>\n      <th>Id</th>\n      <th>SepalLengthCm</th>\n      <th>SepalWidthCm</th>\n      <th>PetalLengthCm</th>\n      <th>PetalWidthCm</th>\n      <th>Species</th>\n    </tr>\n  </thead>\n  <tbody>\n    <tr>\n      <th>0</th>\n      <td>1</td>\n      <td>5.1</td>\n      <td>3.5</td>\n      <td>1.4</td>\n      <td>0.2</td>\n      <td>Iris-setosa</td>\n    </tr>\n    <tr>\n      <th>1</th>\n      <td>2</td>\n      <td>4.9</td>\n      <td>3.0</td>\n      <td>1.4</td>\n      <td>0.2</td>\n      <td>Iris-setosa</td>\n    </tr>\n    <tr>\n      <th>2</th>\n      <td>3</td>\n      <td>4.7</td>\n      <td>3.2</td>\n      <td>1.3</td>\n      <td>0.2</td>\n      <td>Iris-setosa</td>\n    </tr>\n    <tr>\n      <th>3</th>\n      <td>4</td>\n      <td>4.6</td>\n      <td>3.1</td>\n      <td>1.5</td>\n      <td>0.2</td>\n      <td>Iris-setosa</td>\n    </tr>\n    <tr>\n      <th>4</th>\n      <td>5</td>\n      <td>5.0</td>\n      <td>3.6</td>\n      <td>1.4</td>\n      <td>0.2</td>\n      <td>Iris-setosa</td>\n    </tr>\n    <tr>\n      <th>...</th>\n      <td>...</td>\n      <td>...</td>\n      <td>...</td>\n      <td>...</td>\n      <td>...</td>\n      <td>...</td>\n    </tr>\n    <tr>\n      <th>145</th>\n      <td>146</td>\n      <td>6.7</td>\n      <td>3.0</td>\n      <td>5.2</td>\n      <td>2.3</td>\n      <td>Iris-virginica</td>\n    </tr>\n    <tr>\n      <th>146</th>\n      <td>147</td>\n      <td>6.3</td>\n      <td>2.5</td>\n      <td>5.0</td>\n      <td>1.9</td>\n      <td>Iris-virginica</td>\n    </tr>\n    <tr>\n      <th>147</th>\n      <td>148</td>\n      <td>6.5</td>\n      <td>3.0</td>\n      <td>5.2</td>\n      <td>2.0</td>\n      <td>Iris-virginica</td>\n    </tr>\n    <tr>\n      <th>148</th>\n      <td>149</td>\n      <td>6.2</td>\n      <td>3.4</td>\n      <td>5.4</td>\n      <td>2.3</td>\n      <td>Iris-virginica</td>\n    </tr>\n    <tr>\n      <th>149</th>\n      <td>150</td>\n      <td>5.9</td>\n      <td>3.0</td>\n      <td>5.1</td>\n      <td>1.8</td>\n      <td>Iris-virginica</td>\n    </tr>\n  </tbody>\n</table>\n<p>150 rows × 6 columns</p>\n</div>"
     },
     "metadata": {},
     "execution_count": 109
    }
   ],
   "source": [
    "#Importing Libraries\n",
    "import numpy as np\n",
    "import pandas as pd\n",
    "import matplotlib.pyplot as plt\n",
    "from sklearn.linear_model import LinearRegression\n",
    "\n",
    "\n",
    "#Importing the dataset\n",
    "iris_data = pd.read_csv(\"Iris.csv\")\n",
    "iris_data"
   ]
  },
  {
   "cell_type": "code",
   "execution_count": 124,
   "metadata": {},
   "outputs": [],
   "source": [
    "\n",
    "#By looking at the above data.head() We can see that we have 4 independent variables as follows:\n",
    "\n",
    "#1) sepalLengthCm\n",
    "#2) sepalWidthCm\n",
    "#3) PetalLengthCm\n",
    "#4) PetalWidthCm\n",
    "\n",
    "# Also we have dependent variable which is the Species colum\n",
    "\n",
    "#Iris-setosa, Iris-versicolor, Iris-virginica"
   ]
  },
  {
   "cell_type": "code",
   "execution_count": 125,
   "metadata": {},
   "outputs": [],
   "source": [
    "#Convert string classes in the 'species' column into numeric classes\n",
    "\n",
    "#species = list(iris_data['Species'].unique())\n",
    "#iris_data['species_index'] = iris_data['Species'].apply(species.index)\n",
    "#iris_data.head()"
   ]
  },
  {
   "cell_type": "code",
   "execution_count": 126,
   "metadata": {},
   "outputs": [],
   "source": [
    "#To simplify the process in this task we are going to be using \n",
    "# sklearn.datasets and import the iris dataset directly from online\n",
    "\n"
   ]
  },
  {
   "cell_type": "code",
   "execution_count": 127,
   "metadata": {},
   "outputs": [],
   "source": [
    "from sklearn.datasets import load_iris\n",
    "\n",
    "data = load_iris()\n"
   ]
  },
  {
   "cell_type": "code",
   "execution_count": 128,
   "metadata": {},
   "outputs": [
    {
     "output_type": "execute_result",
     "data": {
      "text/plain": [
       "['sepal length (cm)',\n",
       " 'sepal width (cm)',\n",
       " 'petal length (cm)',\n",
       " 'petal width (cm)']"
      ]
     },
     "metadata": {},
     "execution_count": 128
    }
   ],
   "source": [
    "### independent variables\n",
    "\n",
    "data.feature_names"
   ]
  },
  {
   "cell_type": "code",
   "execution_count": 129,
   "metadata": {},
   "outputs": [
    {
     "output_type": "execute_result",
     "data": {
      "text/plain": [
       "array(['setosa', 'versicolor', 'virginica'], dtype='<U10')"
      ]
     },
     "metadata": {},
     "execution_count": 129
    }
   ],
   "source": [
    "#dependent variable\n",
    "\n",
    "data.target_names"
   ]
  },
  {
   "cell_type": "code",
   "execution_count": 130,
   "metadata": {},
   "outputs": [
    {
     "output_type": "execute_result",
     "data": {
      "text/plain": [
       "(150, 4)"
      ]
     },
     "metadata": {},
     "execution_count": 130
    }
   ],
   "source": [
    "#Assign the independent variable value(s)\n",
    "X_var = data.data\n",
    "X_var.shape"
   ]
  },
  {
   "cell_type": "code",
   "execution_count": 131,
   "metadata": {},
   "outputs": [
    {
     "output_type": "execute_result",
     "data": {
      "text/plain": [
       "(150,)"
      ]
     },
     "metadata": {},
     "execution_count": 131
    }
   ],
   "source": [
    "\n",
    "y = data.target\n",
    "y.shape"
   ]
  },
  {
   "cell_type": "code",
   "execution_count": 132,
   "metadata": {},
   "outputs": [
    {
     "output_type": "execute_result",
     "data": {
      "text/plain": [
       "(150, 1)"
      ]
     },
     "metadata": {},
     "execution_count": 132
    }
   ],
   "source": [
    "#We reshape to accommodate the array since our library doesn't allow 1D so we convert to 2D\n",
    "\n",
    "y = y.reshape(-1,1)\n",
    "\n",
    "y.shape\n"
   ]
  },
  {
   "cell_type": "code",
   "execution_count": 133,
   "metadata": {},
   "outputs": [],
   "source": [
    "#We have to split the data into training and test sets of 80 and 20 percents respectively\n",
    "\n",
    "#we have to import train_test_split from sklearn.model_selection\n",
    "\n",
    "from sklearn.model_selection import train_test_split\n"
   ]
  },
  {
   "cell_type": "code",
   "execution_count": 134,
   "metadata": {},
   "outputs": [],
   "source": [
    "#lets split the data\n",
    "\n",
    "X_train, X_test, y_train, y_test = train_test_split(X_var, y, test_size = 0.20)"
   ]
  },
  {
   "cell_type": "code",
   "execution_count": 135,
   "metadata": {},
   "outputs": [],
   "source": [
    "#Creating Linear Regression\n",
    "\n",
    "linearReg = LinearRegression()"
   ]
  },
  {
   "cell_type": "code",
   "execution_count": 136,
   "metadata": {},
   "outputs": [],
   "source": [
    "#Fitting the model on the training data\n",
    "\n",
    "model = linearReg.fit(X_train, y_train)\n"
   ]
  },
  {
   "cell_type": "code",
   "execution_count": 139,
   "metadata": {},
   "outputs": [
    {
     "output_type": "stream",
     "name": "stdout",
     "text": [
      "Intercept: \n [0.1891557]\nCoefficients: \n [[-0.10305184 -0.04965275  0.21980053  0.62777222]]\n"
     ]
    }
   ],
   "source": [
    "print('Intercept: \\n', model.intercept_)\n",
    "print('Coefficients: \\n', model.coef_)"
   ]
  },
  {
   "cell_type": "code",
   "execution_count": 140,
   "metadata": {},
   "outputs": [],
   "source": [
    "#Generate predictions for the test set\n",
    "predictions = model.predict(X_test)"
   ]
  },
  {
   "cell_type": "code",
   "execution_count": 141,
   "metadata": {},
   "outputs": [],
   "source": [
    "#Import R2: to aid us in calculatiung and seeing the score of our predictions\n",
    "\n",
    "from sklearn.metrics import r2_score"
   ]
  },
  {
   "cell_type": "code",
   "execution_count": 142,
   "metadata": {},
   "outputs": [
    {
     "output_type": "execute_result",
     "data": {
      "text/plain": [
       "0.9004848809844541"
      ]
     },
     "metadata": {},
     "execution_count": 142
    }
   ],
   "source": [
    "\n",
    "r2_score(y_test, predictions)"
   ]
  },
  {
   "cell_type": "code",
   "execution_count": 37,
   "metadata": {},
   "outputs": [
    {
     "output_type": "execute_result",
     "data": {
      "text/plain": [
       "<ErrorbarContainer object of 3 artists>"
      ]
     },
     "metadata": {},
     "execution_count": 37
    },
    {
     "output_type": "display_data",
     "data": {
      "text/plain": "<Figure size 432x288 with 1 Axes>",
      "image/svg+xml": "<?xml version=\"1.0\" encoding=\"utf-8\" standalone=\"no\"?>\r\n<!DOCTYPE svg PUBLIC \"-//W3C//DTD SVG 1.1//EN\"\r\n  \"http://www.w3.org/Graphics/SVG/1.1/DTD/svg11.dtd\">\r\n<!-- Created with matplotlib (https://matplotlib.org/) -->\r\n<svg height=\"248.984777pt\" version=\"1.1\" viewBox=\"0 0 372.103125 248.984777\" width=\"372.103125pt\" xmlns=\"http://www.w3.org/2000/svg\" xmlns:xlink=\"http://www.w3.org/1999/xlink\">\r\n <defs>\r\n  <style type=\"text/css\">\r\n*{stroke-linecap:butt;stroke-linejoin:round;}\r\n  </style>\r\n </defs>\r\n <g id=\"figure_1\">\r\n  <g id=\"patch_1\">\r\n   <path d=\"M 0 248.984777 \r\nL 372.103125 248.984777 \r\nL 372.103125 0 \r\nL 0 0 \r\nz\r\n\" style=\"fill:none;\"/>\r\n  </g>\r\n  <g id=\"axes_1\">\r\n   <g id=\"patch_2\">\r\n    <path d=\"M 30.103125 225.106652 \r\nL 364.903125 225.106652 \r\nL 364.903125 7.666652 \r\nL 30.103125 7.666652 \r\nz\r\n\" style=\"fill:#ffffff;\"/>\r\n   </g>\r\n   <g id=\"matplotlib.axis_1\">\r\n    <g id=\"xtick_1\">\r\n     <g id=\"line2d_1\">\r\n      <defs>\r\n       <path d=\"M 0 0 \r\nL 0 3.5 \r\n\" id=\"maa90683d1b\" style=\"stroke:#000000;stroke-width:0.8;\"/>\r\n      </defs>\r\n      <g>\r\n       <use style=\"stroke:#000000;stroke-width:0.8;\" x=\"34.826009\" xlink:href=\"#maa90683d1b\" y=\"225.106652\"/>\r\n      </g>\r\n     </g>\r\n     <g id=\"text_1\">\r\n      <!-- 0 -->\r\n      <defs>\r\n       <path d=\"M 31.78125 66.40625 \r\nQ 24.171875 66.40625 20.328125 58.90625 \r\nQ 16.5 51.421875 16.5 36.375 \r\nQ 16.5 21.390625 20.328125 13.890625 \r\nQ 24.171875 6.390625 31.78125 6.390625 \r\nQ 39.453125 6.390625 43.28125 13.890625 \r\nQ 47.125 21.390625 47.125 36.375 \r\nQ 47.125 51.421875 43.28125 58.90625 \r\nQ 39.453125 66.40625 31.78125 66.40625 \r\nz\r\nM 31.78125 74.21875 \r\nQ 44.046875 74.21875 50.515625 64.515625 \r\nQ 56.984375 54.828125 56.984375 36.375 \r\nQ 56.984375 17.96875 50.515625 8.265625 \r\nQ 44.046875 -1.421875 31.78125 -1.421875 \r\nQ 19.53125 -1.421875 13.0625 8.265625 \r\nQ 6.59375 17.96875 6.59375 36.375 \r\nQ 6.59375 54.828125 13.0625 64.515625 \r\nQ 19.53125 74.21875 31.78125 74.21875 \r\nz\r\n\" id=\"DejaVuSans-48\"/>\r\n      </defs>\r\n      <g transform=\"translate(31.644759 239.705089)scale(0.1 -0.1)\">\r\n       <use xlink:href=\"#DejaVuSans-48\"/>\r\n      </g>\r\n     </g>\r\n    </g>\r\n    <g id=\"xtick_2\">\r\n     <g id=\"line2d_2\">\r\n      <g>\r\n       <use style=\"stroke:#000000;stroke-width:0.8;\" x=\"87.302498\" xlink:href=\"#maa90683d1b\" y=\"225.106652\"/>\r\n      </g>\r\n     </g>\r\n     <g id=\"text_2\">\r\n      <!-- 5 -->\r\n      <defs>\r\n       <path d=\"M 10.796875 72.90625 \r\nL 49.515625 72.90625 \r\nL 49.515625 64.59375 \r\nL 19.828125 64.59375 \r\nL 19.828125 46.734375 \r\nQ 21.96875 47.46875 24.109375 47.828125 \r\nQ 26.265625 48.1875 28.421875 48.1875 \r\nQ 40.625 48.1875 47.75 41.5 \r\nQ 54.890625 34.8125 54.890625 23.390625 \r\nQ 54.890625 11.625 47.5625 5.09375 \r\nQ 40.234375 -1.421875 26.90625 -1.421875 \r\nQ 22.3125 -1.421875 17.546875 -0.640625 \r\nQ 12.796875 0.140625 7.71875 1.703125 \r\nL 7.71875 11.625 \r\nQ 12.109375 9.234375 16.796875 8.0625 \r\nQ 21.484375 6.890625 26.703125 6.890625 \r\nQ 35.15625 6.890625 40.078125 11.328125 \r\nQ 45.015625 15.765625 45.015625 23.390625 \r\nQ 45.015625 31 40.078125 35.4375 \r\nQ 35.15625 39.890625 26.703125 39.890625 \r\nQ 22.75 39.890625 18.8125 39.015625 \r\nQ 14.890625 38.140625 10.796875 36.28125 \r\nz\r\n\" id=\"DejaVuSans-53\"/>\r\n      </defs>\r\n      <g transform=\"translate(84.121248 239.705089)scale(0.1 -0.1)\">\r\n       <use xlink:href=\"#DejaVuSans-53\"/>\r\n      </g>\r\n     </g>\r\n    </g>\r\n    <g id=\"xtick_3\">\r\n     <g id=\"line2d_3\">\r\n      <g>\r\n       <use style=\"stroke:#000000;stroke-width:0.8;\" x=\"139.778987\" xlink:href=\"#maa90683d1b\" y=\"225.106652\"/>\r\n      </g>\r\n     </g>\r\n     <g id=\"text_3\">\r\n      <!-- 10 -->\r\n      <defs>\r\n       <path d=\"M 12.40625 8.296875 \r\nL 28.515625 8.296875 \r\nL 28.515625 63.921875 \r\nL 10.984375 60.40625 \r\nL 10.984375 69.390625 \r\nL 28.421875 72.90625 \r\nL 38.28125 72.90625 \r\nL 38.28125 8.296875 \r\nL 54.390625 8.296875 \r\nL 54.390625 0 \r\nL 12.40625 0 \r\nz\r\n\" id=\"DejaVuSans-49\"/>\r\n      </defs>\r\n      <g transform=\"translate(133.416487 239.705089)scale(0.1 -0.1)\">\r\n       <use xlink:href=\"#DejaVuSans-49\"/>\r\n       <use x=\"63.623047\" xlink:href=\"#DejaVuSans-48\"/>\r\n      </g>\r\n     </g>\r\n    </g>\r\n    <g id=\"xtick_4\">\r\n     <g id=\"line2d_4\">\r\n      <g>\r\n       <use style=\"stroke:#000000;stroke-width:0.8;\" x=\"192.255476\" xlink:href=\"#maa90683d1b\" y=\"225.106652\"/>\r\n      </g>\r\n     </g>\r\n     <g id=\"text_4\">\r\n      <!-- 15 -->\r\n      <g transform=\"translate(185.892976 239.705089)scale(0.1 -0.1)\">\r\n       <use xlink:href=\"#DejaVuSans-49\"/>\r\n       <use x=\"63.623047\" xlink:href=\"#DejaVuSans-53\"/>\r\n      </g>\r\n     </g>\r\n    </g>\r\n    <g id=\"xtick_5\">\r\n     <g id=\"line2d_5\">\r\n      <g>\r\n       <use style=\"stroke:#000000;stroke-width:0.8;\" x=\"244.731965\" xlink:href=\"#maa90683d1b\" y=\"225.106652\"/>\r\n      </g>\r\n     </g>\r\n     <g id=\"text_5\">\r\n      <!-- 20 -->\r\n      <defs>\r\n       <path d=\"M 19.1875 8.296875 \r\nL 53.609375 8.296875 \r\nL 53.609375 0 \r\nL 7.328125 0 \r\nL 7.328125 8.296875 \r\nQ 12.9375 14.109375 22.625 23.890625 \r\nQ 32.328125 33.6875 34.8125 36.53125 \r\nQ 39.546875 41.84375 41.421875 45.53125 \r\nQ 43.3125 49.21875 43.3125 52.78125 \r\nQ 43.3125 58.59375 39.234375 62.25 \r\nQ 35.15625 65.921875 28.609375 65.921875 \r\nQ 23.96875 65.921875 18.8125 64.3125 \r\nQ 13.671875 62.703125 7.8125 59.421875 \r\nL 7.8125 69.390625 \r\nQ 13.765625 71.78125 18.9375 73 \r\nQ 24.125 74.21875 28.421875 74.21875 \r\nQ 39.75 74.21875 46.484375 68.546875 \r\nQ 53.21875 62.890625 53.21875 53.421875 \r\nQ 53.21875 48.921875 51.53125 44.890625 \r\nQ 49.859375 40.875 45.40625 35.40625 \r\nQ 44.1875 33.984375 37.640625 27.21875 \r\nQ 31.109375 20.453125 19.1875 8.296875 \r\nz\r\n\" id=\"DejaVuSans-50\"/>\r\n      </defs>\r\n      <g transform=\"translate(238.369465 239.705089)scale(0.1 -0.1)\">\r\n       <use xlink:href=\"#DejaVuSans-50\"/>\r\n       <use x=\"63.623047\" xlink:href=\"#DejaVuSans-48\"/>\r\n      </g>\r\n     </g>\r\n    </g>\r\n    <g id=\"xtick_6\">\r\n     <g id=\"line2d_6\">\r\n      <g>\r\n       <use style=\"stroke:#000000;stroke-width:0.8;\" x=\"297.208454\" xlink:href=\"#maa90683d1b\" y=\"225.106652\"/>\r\n      </g>\r\n     </g>\r\n     <g id=\"text_6\">\r\n      <!-- 25 -->\r\n      <g transform=\"translate(290.845954 239.705089)scale(0.1 -0.1)\">\r\n       <use xlink:href=\"#DejaVuSans-50\"/>\r\n       <use x=\"63.623047\" xlink:href=\"#DejaVuSans-53\"/>\r\n      </g>\r\n     </g>\r\n    </g>\r\n    <g id=\"xtick_7\">\r\n     <g id=\"line2d_7\">\r\n      <g>\r\n       <use style=\"stroke:#000000;stroke-width:0.8;\" x=\"349.684943\" xlink:href=\"#maa90683d1b\" y=\"225.106652\"/>\r\n      </g>\r\n     </g>\r\n     <g id=\"text_7\">\r\n      <!-- 30 -->\r\n      <defs>\r\n       <path d=\"M 40.578125 39.3125 \r\nQ 47.65625 37.796875 51.625 33 \r\nQ 55.609375 28.21875 55.609375 21.1875 \r\nQ 55.609375 10.40625 48.1875 4.484375 \r\nQ 40.765625 -1.421875 27.09375 -1.421875 \r\nQ 22.515625 -1.421875 17.65625 -0.515625 \r\nQ 12.796875 0.390625 7.625 2.203125 \r\nL 7.625 11.71875 \r\nQ 11.71875 9.328125 16.59375 8.109375 \r\nQ 21.484375 6.890625 26.8125 6.890625 \r\nQ 36.078125 6.890625 40.9375 10.546875 \r\nQ 45.796875 14.203125 45.796875 21.1875 \r\nQ 45.796875 27.640625 41.28125 31.265625 \r\nQ 36.765625 34.90625 28.71875 34.90625 \r\nL 20.21875 34.90625 \r\nL 20.21875 43.015625 \r\nL 29.109375 43.015625 \r\nQ 36.375 43.015625 40.234375 45.921875 \r\nQ 44.09375 48.828125 44.09375 54.296875 \r\nQ 44.09375 59.90625 40.109375 62.90625 \r\nQ 36.140625 65.921875 28.71875 65.921875 \r\nQ 24.65625 65.921875 20.015625 65.03125 \r\nQ 15.375 64.15625 9.8125 62.3125 \r\nL 9.8125 71.09375 \r\nQ 15.4375 72.65625 20.34375 73.4375 \r\nQ 25.25 74.21875 29.59375 74.21875 \r\nQ 40.828125 74.21875 47.359375 69.109375 \r\nQ 53.90625 64.015625 53.90625 55.328125 \r\nQ 53.90625 49.265625 50.4375 45.09375 \r\nQ 46.96875 40.921875 40.578125 39.3125 \r\nz\r\n\" id=\"DejaVuSans-51\"/>\r\n      </defs>\r\n      <g transform=\"translate(343.322443 239.705089)scale(0.1 -0.1)\">\r\n       <use xlink:href=\"#DejaVuSans-51\"/>\r\n       <use x=\"63.623047\" xlink:href=\"#DejaVuSans-48\"/>\r\n      </g>\r\n     </g>\r\n    </g>\r\n   </g>\r\n   <g id=\"matplotlib.axis_2\">\r\n    <g id=\"ytick_1\">\r\n     <g id=\"line2d_8\">\r\n      <defs>\r\n       <path d=\"M 0 0 \r\nL -3.5 0 \r\n\" id=\"m94a20c3391\" style=\"stroke:#000000;stroke-width:0.8;\"/>\r\n      </defs>\r\n      <g>\r\n       <use style=\"stroke:#000000;stroke-width:0.8;\" x=\"30.103125\" xlink:href=\"#m94a20c3391\" y=\"202.338048\"/>\r\n      </g>\r\n     </g>\r\n     <g id=\"text_8\">\r\n      <!-- 0.0 -->\r\n      <defs>\r\n       <path d=\"M 10.6875 12.40625 \r\nL 21 12.40625 \r\nL 21 0 \r\nL 10.6875 0 \r\nz\r\n\" id=\"DejaVuSans-46\"/>\r\n      </defs>\r\n      <g transform=\"translate(7.2 206.137267)scale(0.1 -0.1)\">\r\n       <use xlink:href=\"#DejaVuSans-48\"/>\r\n       <use x=\"63.623047\" xlink:href=\"#DejaVuSans-46\"/>\r\n       <use x=\"95.410156\" xlink:href=\"#DejaVuSans-48\"/>\r\n      </g>\r\n     </g>\r\n    </g>\r\n    <g id=\"ytick_2\">\r\n     <g id=\"line2d_9\">\r\n      <g>\r\n       <use style=\"stroke:#000000;stroke-width:0.8;\" x=\"30.103125\" xlink:href=\"#m94a20c3391\" y=\"164.070282\"/>\r\n      </g>\r\n     </g>\r\n     <g id=\"text_9\">\r\n      <!-- 0.5 -->\r\n      <g transform=\"translate(7.2 167.869501)scale(0.1 -0.1)\">\r\n       <use xlink:href=\"#DejaVuSans-48\"/>\r\n       <use x=\"63.623047\" xlink:href=\"#DejaVuSans-46\"/>\r\n       <use x=\"95.410156\" xlink:href=\"#DejaVuSans-53\"/>\r\n      </g>\r\n     </g>\r\n    </g>\r\n    <g id=\"ytick_3\">\r\n     <g id=\"line2d_10\">\r\n      <g>\r\n       <use style=\"stroke:#000000;stroke-width:0.8;\" x=\"30.103125\" xlink:href=\"#m94a20c3391\" y=\"125.802516\"/>\r\n      </g>\r\n     </g>\r\n     <g id=\"text_10\">\r\n      <!-- 1.0 -->\r\n      <g transform=\"translate(7.2 129.601735)scale(0.1 -0.1)\">\r\n       <use xlink:href=\"#DejaVuSans-49\"/>\r\n       <use x=\"63.623047\" xlink:href=\"#DejaVuSans-46\"/>\r\n       <use x=\"95.410156\" xlink:href=\"#DejaVuSans-48\"/>\r\n      </g>\r\n     </g>\r\n    </g>\r\n    <g id=\"ytick_4\">\r\n     <g id=\"line2d_11\">\r\n      <g>\r\n       <use style=\"stroke:#000000;stroke-width:0.8;\" x=\"30.103125\" xlink:href=\"#m94a20c3391\" y=\"87.53475\"/>\r\n      </g>\r\n     </g>\r\n     <g id=\"text_11\">\r\n      <!-- 1.5 -->\r\n      <g transform=\"translate(7.2 91.333969)scale(0.1 -0.1)\">\r\n       <use xlink:href=\"#DejaVuSans-49\"/>\r\n       <use x=\"63.623047\" xlink:href=\"#DejaVuSans-46\"/>\r\n       <use x=\"95.410156\" xlink:href=\"#DejaVuSans-53\"/>\r\n      </g>\r\n     </g>\r\n    </g>\r\n    <g id=\"ytick_5\">\r\n     <g id=\"line2d_12\">\r\n      <g>\r\n       <use style=\"stroke:#000000;stroke-width:0.8;\" x=\"30.103125\" xlink:href=\"#m94a20c3391\" y=\"49.266985\"/>\r\n      </g>\r\n     </g>\r\n     <g id=\"text_12\">\r\n      <!-- 2.0 -->\r\n      <g transform=\"translate(7.2 53.066203)scale(0.1 -0.1)\">\r\n       <use xlink:href=\"#DejaVuSans-50\"/>\r\n       <use x=\"63.623047\" xlink:href=\"#DejaVuSans-46\"/>\r\n       <use x=\"95.410156\" xlink:href=\"#DejaVuSans-48\"/>\r\n      </g>\r\n     </g>\r\n    </g>\r\n    <g id=\"ytick_6\">\r\n     <g id=\"line2d_13\">\r\n      <g>\r\n       <use style=\"stroke:#000000;stroke-width:0.8;\" x=\"30.103125\" xlink:href=\"#m94a20c3391\" y=\"10.999219\"/>\r\n      </g>\r\n     </g>\r\n     <g id=\"text_13\">\r\n      <!-- 2.5 -->\r\n      <g transform=\"translate(7.2 14.798437)scale(0.1 -0.1)\">\r\n       <use xlink:href=\"#DejaVuSans-50\"/>\r\n       <use x=\"63.623047\" xlink:href=\"#DejaVuSans-46\"/>\r\n       <use x=\"95.410156\" xlink:href=\"#DejaVuSans-53\"/>\r\n      </g>\r\n     </g>\r\n    </g>\r\n   </g>\r\n   <g id=\"LineCollection_1\">\r\n    <path clip-path=\"url(#pf5aeb21053)\" d=\"M 45.321307 68.79555 \r\nL 45.321307 29.738419 \r\n\" style=\"fill:none;stroke:#0000ff;stroke-width:1.5;\"/>\r\n    <path clip-path=\"url(#pf5aeb21053)\" d=\"M 55.816605 207.048411 \r\nL 55.816605 197.627685 \r\n\" style=\"fill:none;stroke:#0000ff;stroke-width:1.5;\"/>\r\n    <path clip-path=\"url(#pf5aeb21053)\" d=\"M 66.311902 215.223015 \r\nL 66.311902 189.45308 \r\n\" style=\"fill:none;stroke:#0000ff;stroke-width:1.5;\"/>\r\n    <path clip-path=\"url(#pf5aeb21053)\" d=\"M 76.8072 192.078555 \r\nL 76.8072 212.597541 \r\n\" style=\"fill:none;stroke:#0000ff;stroke-width:1.5;\"/>\r\n    <path clip-path=\"url(#pf5aeb21053)\" d=\"M 87.302498 97.039605 \r\nL 87.302498 154.565428 \r\n\" style=\"fill:none;stroke:#0000ff;stroke-width:1.5;\"/>\r\n    <path clip-path=\"url(#pf5aeb21053)\" d=\"M 97.797796 203.073985 \r\nL 97.797796 201.60211 \r\n\" style=\"fill:none;stroke:#0000ff;stroke-width:1.5;\"/>\r\n    <path clip-path=\"url(#pf5aeb21053)\" d=\"M 108.293094 121.850037 \r\nL 108.293094 129.754995 \r\n\" style=\"fill:none;stroke:#0000ff;stroke-width:1.5;\"/>\r\n    <path clip-path=\"url(#pf5aeb21053)\" d=\"M 118.788391 210.982393 \r\nL 118.788391 193.693702 \r\n\" style=\"fill:none;stroke:#0000ff;stroke-width:1.5;\"/>\r\n    <path clip-path=\"url(#pf5aeb21053)\" d=\"M 129.283689 203.928799 \r\nL 129.283689 200.747296 \r\n\" style=\"fill:none;stroke:#0000ff;stroke-width:1.5;\"/>\r\n    <path clip-path=\"url(#pf5aeb21053)\" d=\"M 139.778987 33.947921 \r\nL 139.778987 64.586048 \r\n\" style=\"fill:none;stroke:#0000ff;stroke-width:1.5;\"/>\r\n    <path clip-path=\"url(#pf5aeb21053)\" d=\"M 150.274285 61.984041 \r\nL 150.274285 36.549928 \r\n\" style=\"fill:none;stroke:#0000ff;stroke-width:1.5;\"/>\r\n    <path clip-path=\"url(#pf5aeb21053)\" d=\"M 160.769583 133.321953 \r\nL 160.769583 118.28308 \r\n\" style=\"fill:none;stroke:#0000ff;stroke-width:1.5;\"/>\r\n    <path clip-path=\"url(#pf5aeb21053)\" d=\"M 171.26488 49.281887 \r\nL 171.26488 49.252082 \r\n\" style=\"fill:none;stroke:#0000ff;stroke-width:1.5;\"/>\r\n    <path clip-path=\"url(#pf5aeb21053)\" d=\"M 181.760178 64.891252 \r\nL 181.760178 33.642717 \r\n\" style=\"fill:none;stroke:#0000ff;stroke-width:1.5;\"/>\r\n    <path clip-path=\"url(#pf5aeb21053)\" d=\"M 192.255476 206.878324 \r\nL 192.255476 197.797772 \r\n\" style=\"fill:none;stroke:#0000ff;stroke-width:1.5;\"/>\r\n    <path clip-path=\"url(#pf5aeb21053)\" d=\"M 202.750774 206.15135 \r\nL 202.750774 198.524745 \r\n\" style=\"fill:none;stroke:#0000ff;stroke-width:1.5;\"/>\r\n    <path clip-path=\"url(#pf5aeb21053)\" d=\"M 213.246072 105.624269 \r\nL 213.246072 145.980764 \r\n\" style=\"fill:none;stroke:#0000ff;stroke-width:1.5;\"/>\r\n    <path clip-path=\"url(#pf5aeb21053)\" d=\"M 223.74137 66.06133 \r\nL 223.74137 32.472639 \r\n\" style=\"fill:none;stroke:#0000ff;stroke-width:1.5;\"/>\r\n    <path clip-path=\"url(#pf5aeb21053)\" d=\"M 234.236667 80.983681 \r\nL 234.236667 17.550288 \r\n\" style=\"fill:none;stroke:#0000ff;stroke-width:1.5;\"/>\r\n    <path clip-path=\"url(#pf5aeb21053)\" d=\"M 244.731965 113.114455 \r\nL 244.731965 138.490578 \r\n\" style=\"fill:none;stroke:#0000ff;stroke-width:1.5;\"/>\r\n    <path clip-path=\"url(#pf5aeb21053)\" d=\"M 255.227263 214.658583 \r\nL 255.227263 190.017513 \r\n\" style=\"fill:none;stroke:#0000ff;stroke-width:1.5;\"/>\r\n    <path clip-path=\"url(#pf5aeb21053)\" d=\"M 265.722561 203.760758 \r\nL 265.722561 200.915338 \r\n\" style=\"fill:none;stroke:#0000ff;stroke-width:1.5;\"/>\r\n    <path clip-path=\"url(#pf5aeb21053)\" d=\"M 276.217859 121.767348 \r\nL 276.217859 129.837684 \r\n\" style=\"fill:none;stroke:#0000ff;stroke-width:1.5;\"/>\r\n    <path clip-path=\"url(#pf5aeb21053)\" d=\"M 286.713156 107.481361 \r\nL 286.713156 144.123672 \r\n\" style=\"fill:none;stroke:#0000ff;stroke-width:1.5;\"/>\r\n    <path clip-path=\"url(#pf5aeb21053)\" d=\"M 297.208454 74.747054 \r\nL 297.208454 23.786915 \r\n\" style=\"fill:none;stroke:#0000ff;stroke-width:1.5;\"/>\r\n    <path clip-path=\"url(#pf5aeb21053)\" d=\"M 307.703752 111.452882 \r\nL 307.703752 140.15215 \r\n\" style=\"fill:none;stroke:#0000ff;stroke-width:1.5;\"/>\r\n    <path clip-path=\"url(#pf5aeb21053)\" d=\"M 318.19905 96.570974 \r\nL 318.19905 155.034059 \r\n\" style=\"fill:none;stroke:#0000ff;stroke-width:1.5;\"/>\r\n    <path clip-path=\"url(#pf5aeb21053)\" d=\"M 328.694348 71.829876 \r\nL 328.694348 26.704093 \r\n\" style=\"fill:none;stroke:#0000ff;stroke-width:1.5;\"/>\r\n    <path clip-path=\"url(#pf5aeb21053)\" d=\"M 339.189645 46.111625 \r\nL 339.189645 52.422344 \r\n\" style=\"fill:none;stroke:#0000ff;stroke-width:1.5;\"/>\r\n    <path clip-path=\"url(#pf5aeb21053)\" d=\"M 349.684943 205.720016 \r\nL 349.684943 198.956079 \r\n\" style=\"fill:none;stroke:#0000ff;stroke-width:1.5;\"/>\r\n   </g>\r\n   <g id=\"line2d_14\">\r\n    <defs>\r\n     <path d=\"M 0 -3 \r\nL -3 3 \r\nL 3 3 \r\nz\r\n\" id=\"ma9db9a60d7\" style=\"stroke:#000000;stroke-linejoin:miter;\"/>\r\n    </defs>\r\n    <g clip-path=\"url(#pf5aeb21053)\">\r\n     <use style=\"stroke:#000000;stroke-linejoin:miter;\" x=\"45.321307\" xlink:href=\"#ma9db9a60d7\" y=\"49.266985\"/>\r\n     <use style=\"stroke:#000000;stroke-linejoin:miter;\" x=\"55.816605\" xlink:href=\"#ma9db9a60d7\" y=\"202.338048\"/>\r\n     <use style=\"stroke:#000000;stroke-linejoin:miter;\" x=\"66.311902\" xlink:href=\"#ma9db9a60d7\" y=\"202.338048\"/>\r\n     <use style=\"stroke:#000000;stroke-linejoin:miter;\" x=\"76.8072\" xlink:href=\"#ma9db9a60d7\" y=\"202.338048\"/>\r\n     <use style=\"stroke:#000000;stroke-linejoin:miter;\" x=\"87.302498\" xlink:href=\"#ma9db9a60d7\" y=\"125.802516\"/>\r\n     <use style=\"stroke:#000000;stroke-linejoin:miter;\" x=\"97.797796\" xlink:href=\"#ma9db9a60d7\" y=\"202.338048\"/>\r\n     <use style=\"stroke:#000000;stroke-linejoin:miter;\" x=\"108.293094\" xlink:href=\"#ma9db9a60d7\" y=\"125.802516\"/>\r\n     <use style=\"stroke:#000000;stroke-linejoin:miter;\" x=\"118.788391\" xlink:href=\"#ma9db9a60d7\" y=\"202.338048\"/>\r\n     <use style=\"stroke:#000000;stroke-linejoin:miter;\" x=\"129.283689\" xlink:href=\"#ma9db9a60d7\" y=\"202.338048\"/>\r\n     <use style=\"stroke:#000000;stroke-linejoin:miter;\" x=\"139.778987\" xlink:href=\"#ma9db9a60d7\" y=\"49.266985\"/>\r\n     <use style=\"stroke:#000000;stroke-linejoin:miter;\" x=\"150.274285\" xlink:href=\"#ma9db9a60d7\" y=\"49.266985\"/>\r\n     <use style=\"stroke:#000000;stroke-linejoin:miter;\" x=\"160.769583\" xlink:href=\"#ma9db9a60d7\" y=\"125.802516\"/>\r\n     <use style=\"stroke:#000000;stroke-linejoin:miter;\" x=\"171.26488\" xlink:href=\"#ma9db9a60d7\" y=\"49.266985\"/>\r\n     <use style=\"stroke:#000000;stroke-linejoin:miter;\" x=\"181.760178\" xlink:href=\"#ma9db9a60d7\" y=\"49.266985\"/>\r\n     <use style=\"stroke:#000000;stroke-linejoin:miter;\" x=\"192.255476\" xlink:href=\"#ma9db9a60d7\" y=\"202.338048\"/>\r\n     <use style=\"stroke:#000000;stroke-linejoin:miter;\" x=\"202.750774\" xlink:href=\"#ma9db9a60d7\" y=\"202.338048\"/>\r\n     <use style=\"stroke:#000000;stroke-linejoin:miter;\" x=\"213.246072\" xlink:href=\"#ma9db9a60d7\" y=\"125.802516\"/>\r\n     <use style=\"stroke:#000000;stroke-linejoin:miter;\" x=\"223.74137\" xlink:href=\"#ma9db9a60d7\" y=\"49.266985\"/>\r\n     <use style=\"stroke:#000000;stroke-linejoin:miter;\" x=\"234.236667\" xlink:href=\"#ma9db9a60d7\" y=\"49.266985\"/>\r\n     <use style=\"stroke:#000000;stroke-linejoin:miter;\" x=\"244.731965\" xlink:href=\"#ma9db9a60d7\" y=\"125.802516\"/>\r\n     <use style=\"stroke:#000000;stroke-linejoin:miter;\" x=\"255.227263\" xlink:href=\"#ma9db9a60d7\" y=\"202.338048\"/>\r\n     <use style=\"stroke:#000000;stroke-linejoin:miter;\" x=\"265.722561\" xlink:href=\"#ma9db9a60d7\" y=\"202.338048\"/>\r\n     <use style=\"stroke:#000000;stroke-linejoin:miter;\" x=\"276.217859\" xlink:href=\"#ma9db9a60d7\" y=\"125.802516\"/>\r\n     <use style=\"stroke:#000000;stroke-linejoin:miter;\" x=\"286.713156\" xlink:href=\"#ma9db9a60d7\" y=\"125.802516\"/>\r\n     <use style=\"stroke:#000000;stroke-linejoin:miter;\" x=\"297.208454\" xlink:href=\"#ma9db9a60d7\" y=\"49.266985\"/>\r\n     <use style=\"stroke:#000000;stroke-linejoin:miter;\" x=\"307.703752\" xlink:href=\"#ma9db9a60d7\" y=\"125.802516\"/>\r\n     <use style=\"stroke:#000000;stroke-linejoin:miter;\" x=\"318.19905\" xlink:href=\"#ma9db9a60d7\" y=\"125.802516\"/>\r\n     <use style=\"stroke:#000000;stroke-linejoin:miter;\" x=\"328.694348\" xlink:href=\"#ma9db9a60d7\" y=\"49.266985\"/>\r\n     <use style=\"stroke:#000000;stroke-linejoin:miter;\" x=\"339.189645\" xlink:href=\"#ma9db9a60d7\" y=\"49.266985\"/>\r\n     <use style=\"stroke:#000000;stroke-linejoin:miter;\" x=\"349.684943\" xlink:href=\"#ma9db9a60d7\" y=\"202.338048\"/>\r\n    </g>\r\n   </g>\r\n   <g id=\"patch_3\">\r\n    <path d=\"M 30.103125 225.106652 \r\nL 30.103125 7.666652 \r\n\" style=\"fill:none;stroke:#000000;stroke-linecap:square;stroke-linejoin:miter;stroke-width:0.8;\"/>\r\n   </g>\r\n   <g id=\"patch_4\">\r\n    <path d=\"M 364.903125 225.106652 \r\nL 364.903125 7.666652 \r\n\" style=\"fill:none;stroke:#000000;stroke-linecap:square;stroke-linejoin:miter;stroke-width:0.8;\"/>\r\n   </g>\r\n   <g id=\"patch_5\">\r\n    <path d=\"M 30.103125 225.106652 \r\nL 364.903125 225.106652 \r\n\" style=\"fill:none;stroke:#000000;stroke-linecap:square;stroke-linejoin:miter;stroke-width:0.8;\"/>\r\n   </g>\r\n   <g id=\"patch_6\">\r\n    <path d=\"M 30.103125 7.666652 \r\nL 364.903125 7.666652 \r\n\" style=\"fill:none;stroke:#000000;stroke-linecap:square;stroke-linejoin:miter;stroke-width:0.8;\"/>\r\n   </g>\r\n  </g>\r\n </g>\r\n <defs>\r\n  <clipPath id=\"pf5aeb21053\">\r\n   <rect height=\"217.44\" width=\"334.8\" x=\"30.103125\" y=\"7.666652\"/>\r\n  </clipPath>\r\n </defs>\r\n</svg>\r\n",
      "image/png": "[encoded data removed]"
     },
     "metadata": {
      "needs_background": "light"
     }
    }
   ],
   "source": [
    "#Genering an error plot for the predictions\n",
    "plt.errorbar(range(1, len(y_test)+1), y_test, yerr=(y_test-predictions), fmt='^k', ecolor='b')"
   ]
  },
  {
   "cell_type": "code",
   "execution_count": 38,
   "metadata": {},
   "outputs": [
    {
     "output_type": "execute_result",
     "data": {
      "text/plain": [
       "0.19858036620481023"
      ]
     },
     "metadata": {},
     "execution_count": 38
    }
   ],
   "source": [
    "#To compute RMSE the following has to be done:\n",
    "#1) get the distance between the y_test and the prediction\n",
    "#2) raise it to the power of 2 \n",
    "#3) get the average number\n",
    "#4) use the numpy square root function.\n",
    "np.sqrt(((predictions - y_test)**2).mean()) \n",
    "\n"
   ]
  },
  {
   "cell_type": "code",
   "execution_count": null,
   "metadata": {},
   "outputs": [],
   "source": []
  }
 ]
}