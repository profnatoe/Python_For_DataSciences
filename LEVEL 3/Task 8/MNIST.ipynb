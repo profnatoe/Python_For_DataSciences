{
 "cells": [
  {
   "cell_type": "code",
   "execution_count": 1,
   "metadata": {
    "colab": {},
    "colab_type": "code",
    "id": "4r6opegAv77K"
   },
   "outputs": [],
   "source": [
    "import numpy as np\n",
    "\n",
    "import matplotlib.pyplot as plt\n",
    "from sklearn.datasets import load_digits\n",
    "from sklearn.model_selection import train_test_split\n",
    "from sklearn.ensemble import AdaBoostClassifier\n",
    "from sklearn.ensemble import GradientBoostingClassifier, RandomForestClassifier\n",
    "import xgboost as xgb\n",
    "from mlxtend.classifier import EnsembleVoteClassifier\n",
    "from sklearn.model_selection import cross_val_score\n",
    "import xgboost\n",
    "from sklearn import svm, tree\n",
    "from sklearn import metrics\n",
    "from sklearn.model_selection import GridSearchCV\n",
    "from seaborn import heatmap # we going to use heatmap from seaborn module to get also a picture of our matrices\n",
    "\n"
   ]
  },
  {
   "cell_type": "code",
   "execution_count": 2,
   "metadata": {},
   "outputs": [],
   "source": [
    "digits = load_digits()"
   ]
  },
  {
   "cell_type": "code",
   "execution_count": 3,
   "metadata": {
    "colab": {},
    "colab_type": "code",
    "id": "2AQQkGIpv77b",
    "outputId": "c18b548f-ce18-4de4-8fbf-7e3745651825"
   },
   "outputs": [
    {
     "name": "stdout",
     "output_type": "stream",
     "text": [
      "Image Data Shape (1797, 64)\n",
      "Label Data Shape (1797,)\n"
     ]
    }
   ],
   "source": [
    "# Print to show there are 1797 images (8 by 8 images for a dimensionality of 64)\n",
    "print(\"Image Data Shape\" , digits.data.shape)\n",
    "\n",
    "# Print to show there are 1797 labels (integers from 0-9)\n",
    "print(\"Label Data Shape\", digits.target.shape)"
   ]
  },
  {
   "cell_type": "code",
   "execution_count": 4,
   "metadata": {
    "colab": {},
    "colab_type": "code",
    "id": "XdGEdpC4v771",
    "outputId": "9c09d62c-30b0-468c-ae38-8c511ac889f6"
   },
   "outputs": [
    {
     "data": {
      "image/png": "[encoded data removed]",
      "text/plain": [
       "<Figure size 1440x288 with 5 Axes>"
      ]
     },
     "metadata": {
      "needs_background": "light"
     },
     "output_type": "display_data"
    }
   ],
   "source": [
    "plt.figure(figsize=(20,4))\n",
    "for index, (image, label) in enumerate(zip(digits.data[0:5], digits.target[0:5])):\n",
    "    plt.subplot(1, 5, index + 1)\n",
    "    plt.imshow(np.reshape(image, (8,8)), cmap=plt.cm.gray)\n",
    "\n",
    "    \n",
    "    plt.title('Training: %i\\n' % label, fontsize = 20)"
   ]
  },
  {
   "cell_type": "code",
   "execution_count": 5,
   "metadata": {},
   "outputs": [],
   "source": [
    "#declare our dependent and independent variable\n",
    "\n",
    "X = digits.data\n",
    "y = digits.target"
   ]
  },
  {
   "cell_type": "markdown",
   "metadata": {},
   "source": [
    "### To be able to choose two of the best algorithms we need to first divide the data and then create a model with it"
   ]
  },
  {
   "cell_type": "markdown",
   "metadata": {},
   "source": [
    "# Split the data into training, development and test set"
   ]
  },
  {
   "cell_type": "code",
   "execution_count": 6,
   "metadata": {},
   "outputs": [],
   "source": [
    "X_train, X_test, y_train, y_test = train_test_split(X, y, test_size = 0.40,random_state=42 )\n",
    "X_dev, X_test, y_dev, y_test = train_test_split(X_test, y_test, test_size = 0.50)"
   ]
  },
  {
   "cell_type": "code",
   "execution_count": 7,
   "metadata": {},
   "outputs": [
    {
     "data": {
      "text/plain": [
       "(0.5998887033945465, 0.2003338898163606, 0.19977740678909292)"
      ]
     },
     "execution_count": 7,
     "metadata": {},
     "output_type": "execute_result"
    }
   ],
   "source": [
    "#check the portion using our traditional percentage method\n",
    "X_train.size/X.size,  X_test.size/X.size, X_dev.size/X.size"
   ]
  },
  {
   "cell_type": "code",
   "execution_count": 8,
   "metadata": {},
   "outputs": [
    {
     "data": {
      "text/plain": [
       "array([7, 6, 0, ..., 2, 7, 1])"
      ]
     },
     "execution_count": 8,
     "metadata": {},
     "output_type": "execute_result"
    }
   ],
   "source": [
    "y_train"
   ]
  },
  {
   "cell_type": "markdown",
   "metadata": {},
   "source": [
    "# We work with various algorithms first and make a choice after on which one to continue with.\n",
    "\n",
    "### In this case we will create 6 models "
   ]
  },
  {
   "cell_type": "code",
   "execution_count": 9,
   "metadata": {},
   "outputs": [
    {
     "name": "stdout",
     "output_type": "stream",
     "text": [
      "Accuracy 1 : 0.958217270194986\n",
      "Accuracy 2 : 0.4763231197771588\n",
      "Accuracy 3 : 0.8690807799442897\n",
      "Accuracy 4 : 0.9665738161559888\n",
      "Accuracy 5 : 0.32590529247910865\n",
      "Accuracy 6 : 0.9665738161559888\n"
     ]
    }
   ],
   "source": [
    "# create a list and append 6  different models to it\n",
    "\n",
    "classifiers = []\n",
    "\n",
    "model1 = xgboost.XGBClassifier(random_state=42)\n",
    "classifiers.append(model1)\n",
    "model2 = svm.SVC(gamma='auto',random_state=42)\n",
    "classifiers.append(model2)\n",
    "model3 = tree.DecisionTreeClassifier(random_state=42)\n",
    "classifiers.append(model3)\n",
    "model4 = RandomForestClassifier(n_estimators=100, random_state=42)\n",
    "classifiers.append(model4)\n",
    "model5 = AdaBoostClassifier(n_estimators=50,random_state=42)\n",
    "classifiers.append(model5)\n",
    "model6 = GradientBoostingClassifier(n_estimators = 100,random_state=42)\n",
    "classifiers.append(model6)\n",
    "\n",
    "\n",
    "#loop through the list get the model fit the training data to it and try it with the development set\n",
    "for i,clff in enumerate(classifiers):\n",
    "    \n",
    "    clff.fit(X_train, y_train)\n",
    "    \n",
    "    print(\"Accuracy\",i+1,':',metrics.accuracy_score(y_dev, clff.predict(X_dev)))"
   ]
  },
  {
   "cell_type": "markdown",
   "metadata": {},
   "source": [
    "### From the accuracy we can see that the 4th and 6th perform well on data they've never seen before"
   ]
  },
  {
   "cell_type": "markdown",
   "metadata": {},
   "source": [
    "## Model 4 is using RandomForestClassifier and 6th model is using GradientBoostingClassifier"
   ]
  },
  {
   "cell_type": "code",
   "execution_count": 10,
   "metadata": {},
   "outputs": [
    {
     "name": "stdout",
     "output_type": "stream",
     "text": [
      "Accuracy 1 : 0.9665738161559888\n",
      "Accuracy 2 : 0.9665738161559888\n"
     ]
    }
   ],
   "source": [
    "for i in enumerate([model4, model6]):\n",
    "    clff = i[1]\n",
    "    #clff.fit(X_train, y_train)\n",
    "    prediction_ = clff.predict(X_dev)\n",
    "    print(\"Accuracy\",i[0]+1,':',metrics.accuracy_score(y_dev, prediction_))"
   ]
  },
  {
   "cell_type": "markdown",
   "metadata": {},
   "source": [
    "##### We now need to set the parameter for our algorithms: RandomForestClassifier and GradientBoostingClassier are the algorithms we will use based on their performance as stated above"
   ]
  },
  {
   "cell_type": "markdown",
   "metadata": {},
   "source": [
    "# Parameter to tune\n",
    "\n",
    "* For each of the models (4th and 6th) we are going to work with n_estimator. \n",
    "* that is because n_estimators represents the number of trees in the forest.\n",
    "* That means that the higher the number of trees the better the learning process.\n",
    "\n",
    "\n",
    "# Value set for the parameter for testing on the test data\n",
    "\n",
    "* pre-testing was done on the model ranging between 1 and 100 where n_estimator is equal to i which represent numbers ranging from 1 too 100.\n",
    "* Some values were the model performs well were picked.\n",
    "* We make use of GridsearchCV for making a good combination of the best value for each parameter"
   ]
  },
  {
   "cell_type": "code",
   "execution_count": 11,
   "metadata": {},
   "outputs": [],
   "source": [
    "# creating a dict with parameter and values\n",
    "param_grid = { \n",
    "    'n_estimators': [ 200, 300, 400],\n",
    "    'max_features': ['auto', 'sqrt', 'log2'],\n",
    "    'max_depth' : [10,15,20],\n",
    "    'criterion' :['gini', 'entropy']\n",
    "}"
   ]
  },
  {
   "cell_type": "code",
   "execution_count": 12,
   "metadata": {},
   "outputs": [
    {
     "data": {
      "text/plain": [
       "{'criterion': 'entropy',\n",
       " 'max_depth': 10,\n",
       " 'max_features': 'auto',\n",
       " 'n_estimators': 300}"
      ]
     },
     "execution_count": 12,
     "metadata": {},
     "output_type": "execute_result"
    }
   ],
   "source": [
    "\n",
    "CV_rfc = GridSearchCV(estimator=model4, param_grid=param_grid, cv= 5)\n",
    "CV_rfc.fit(X_train, y_train)\n",
    "CV_rfc.best_params_ # this function returns the best combination "
   ]
  },
  {
   "cell_type": "code",
   "execution_count": 13,
   "metadata": {},
   "outputs": [
    {
     "data": {
      "text/plain": [
       "{'max_depth': 10, 'max_features': 'sqrt', 'n_estimators': 200}"
      ]
     },
     "execution_count": 13,
     "metadata": {},
     "output_type": "execute_result"
    }
   ],
   "source": [
    "param_grid2 = { \n",
    "    'n_estimators': [ 200, 300, 400],\n",
    "    'max_features': ['auto', 'sqrt', 'log2'],\n",
    "    'max_depth' : [10,15,20],\n",
    "    \n",
    "}\n",
    "CV_rfc = GridSearchCV(estimator=model6, param_grid=param_grid2, cv= 5)\n",
    "CV_rfc.fit(X_train, y_train)\n",
    "CV_rfc.best_params_"
   ]
  },
  {
   "cell_type": "code",
   "execution_count": 14,
   "metadata": {},
   "outputs": [
    {
     "name": "stdout",
     "output_type": "stream",
     "text": [
      "0.9693593314763231 0.9721448467966574\n"
     ]
    }
   ],
   "source": [
    "\n",
    "model4_best = RandomForestClassifier(criterion = 'gini',\n",
    "                                 max_depth = 15,\n",
    "                                 max_features = 'log2',\n",
    "                                 n_estimators = 300,\n",
    "                                 random_state = 1)\n",
    "model4_best.fit(X_train, y_train)\n",
    "pred4_best = model4_best.predict(X_dev)\n",
    "\n",
    "\n",
    "model6_best = GradientBoostingClassifier(max_depth = 20, max_features = 'log2', n_estimators = 200,random_state=1)\n",
    "model6_best.fit(X_train, y_train)\n",
    "pred6_best = model6_best.predict(X_dev)\n",
    "\n",
    "print(metrics.accuracy_score(y_dev, pred4_best),metrics.accuracy_score(y_dev, pred6_best))"
   ]
  },
  {
   "cell_type": "markdown",
   "metadata": {},
   "source": [
    "# print confusion matrices for the two models's predictions on the test set"
   ]
  },
  {
   "cell_type": "code",
   "execution_count": 15,
   "metadata": {},
   "outputs": [
    {
     "name": "stdout",
     "output_type": "stream",
     "text": [
      "[[36  0  0  0  0  0  0  0  0  0]\n",
      " [ 0 32  1  0  0  0  0  0  0  0]\n",
      " [ 0  0 36  0  0  0  0  0  0  0]\n",
      " [ 0  0  0 31  0  1  0  0  2  0]\n",
      " [ 0  0  0  0 37  0  0  0  0  0]\n",
      " [ 0  0  0  0  1 34  1  0  0  0]\n",
      " [ 0  0  0  0  0  1 36  0  0  0]\n",
      " [ 0  0  0  0  0  0  0 33  0  1]\n",
      " [ 0  3  0  0  0  0  0  0 37  0]\n",
      " [ 0  0  0  0  0  0  0  0  0 36]] 0.9693593314763231\n"
     ]
    },
    {
     "data": {
      "image/png": "[encoded data removed]",
      "text/plain": [
       "<Figure size 432x288 with 2 Axes>"
      ]
     },
     "metadata": {
      "needs_background": "light"
     },
     "output_type": "display_data"
    }
   ],
   "source": [
    "\n",
    "matrix_ = metrics.confusion_matrix(y_dev, pred4_best)\n",
    "heatmap(matrix_)\n",
    "print(matrix_, metrics.accuracy_score(y_dev, pred4_best))"
   ]
  },
  {
   "cell_type": "code",
   "execution_count": 16,
   "metadata": {},
   "outputs": [
    {
     "name": "stdout",
     "output_type": "stream",
     "text": [
      "[[36  0  0  0  0  0  0  0  0  0]\n",
      " [ 0 33  0  0  0  0  0  0  0  0]\n",
      " [ 0  0 36  0  0  0  0  0  0  0]\n",
      " [ 0  0  0 32  0  1  0  0  1  0]\n",
      " [ 0  0  0  0 37  0  0  0  0  0]\n",
      " [ 0  1  0  0  0 33  1  0  0  1]\n",
      " [ 0  0  0  0  0  1 36  0  0  0]\n",
      " [ 0  0  0  0  0  0  0 33  0  1]\n",
      " [ 0  2  0  0  0  1  0  0 37  0]\n",
      " [ 0  0  0  0  0  0  0  0  0 36]] 0.9721448467966574\n"
     ]
    },
    {
     "data": {
      "image/png": "[encoded data removed]",
      "text/plain": [
       "<Figure size 432x288 with 2 Axes>"
      ]
     },
     "metadata": {
      "needs_background": "light"
     },
     "output_type": "display_data"
    }
   ],
   "source": [
    "matrix_ = metrics.confusion_matrix(y_dev, pred6_best)\n",
    "heatmap(matrix_)\n",
    "print(matrix_, metrics.accuracy_score(y_dev, pred6_best))"
   ]
  },
  {
   "cell_type": "markdown",
   "metadata": {},
   "source": [
    "## Report about which classes the models struggle with the most.\n",
    "\n"
   ]
  },
  {
   "cell_type": "markdown",
   "metadata": {},
   "source": [
    "#### our report will be visually.\n",
    "\n",
    "* We are going to count the total for the accuracies of each class in the dev set\n",
    "* We will do the same for the predicted set\n",
    "* We then plot the results to see the distance between the class in the development set and those predicted\n"
   ]
  },
  {
   "cell_type": "code",
   "execution_count": 17,
   "metadata": {},
   "outputs": [
    {
     "data": {
      "image/png": "[encoded data removed]",
      "text/plain": [
       "<Figure size 1152x360 with 2 Axes>"
      ]
     },
     "metadata": {
      "needs_background": "light"
     },
     "output_type": "display_data"
    }
   ],
   "source": [
    "import pandas as pd\n",
    "plt.figure(figsize=(16,5)) #set a nice and big enough canvas\n",
    "\n",
    "\n",
    "# what is happening in the loop is i=ax or for graph position, pre=predicted classes for the two models and titl=title of models\n",
    "for i, pre,  titl in zip(range(2),[pred4_best, pred6_best], ['Model4\\'s prediction \\n compare to Dev set', 'Model6\\'s prediction \\n compare to Dev set']):\n",
    "    \n",
    "    ax = plt.subplot(1,2,i+1) # set the position of the graph \n",
    "    \n",
    "    #ref line 7-10 \n",
    "    pd.DataFrame(pre)[0].value_counts().sort_index().plot(ax=ax, label='Y_predict')\n",
    "    pd.DataFrame(y_dev)[0].value_counts().sort_index().plot(ax=ax,label='y_dev')\n",
    "    plt.title(titl)\n",
    "    plt.legend()\n",
    "    plt.xlabel('Target(y_dev)')\n",
    "    plt.ylabel('total observations per target')\n",
    "    \n",
    "    "
   ]
  },
  {
   "cell_type": "markdown",
   "metadata": {},
   "source": [
    " # looking at the graphs above we can see a good harmony and flow between the predicted data and the real data\n",
    " \n",
    "   \n",
    "* looking closely one can point out that the distance between the data at index 3 is a bit bigger than the other\n",
    "* both models stuggled a bit to catch the four last points."
   ]
  },
  {
   "cell_type": "markdown",
   "metadata": {},
   "source": [
    "## Report the accuracy, precision, recall and f1-score"
   ]
  },
  {
   "cell_type": "code",
   "execution_count": 19,
   "metadata": {},
   "outputs": [
    {
     "name": "stdout",
     "output_type": "stream",
     "text": [
      "MODEL 4 SCORE REPORTs \n",
      " \n",
      "Accuracy:0.9693593314763231 \n",
      "Precision:0.9693593314763231 \n",
      "Recall:0.9693593314763231 \n",
      "F1_score:0.9693593314763231\n"
     ]
    }
   ],
   "source": [
    "accu_4 = metrics.accuracy_score(y_dev, pred4_best)\n",
    "preci_4 = metrics.precision_score(y_dev, pred4_best,average='micro') # will return the total ratio of tp/(tp + fp)\n",
    "recall_4 = metrics.recall_score(y_dev, pred4_best,average='micro') \n",
    "f1_4 = metrics.f1_score(y_dev, pred4_best,average='micro')\n",
    "\n",
    "\n",
    "print(f\"MODEL 4 SCORE REPORTs \\n \\nAccuracy:{accu_4} \\nPrecision:{preci_4} \\nRecall:{recall_4} \\nF1_score:{f1_4}\")"
   ]
  },
  {
   "cell_type": "code",
   "execution_count": 20,
   "metadata": {},
   "outputs": [
    {
     "name": "stdout",
     "output_type": "stream",
     "text": [
      "MODEL 6 SCORE REPORTs \n",
      " \n",
      "Accuracy:0.9721448467966574 \n",
      "Precision:0.9721448467966574 \n",
      "Recall:0.9721448467966574 \n",
      "F1_score:0.9721448467966572\n"
     ]
    }
   ],
   "source": [
    "accu_6 = metrics.accuracy_score(y_dev, pred6_best)\n",
    "preci_6 = metrics.precision_score(y_dev, pred6_best,average='micro')  #will return the total ratio of tp/(tp + fp)\n",
    "recall_6 = metrics.recall_score(y_dev, pred6_best,average='micro') \n",
    "f1_6 = metrics.f1_score(y_dev, pred6_best,average='micro')\n",
    "\n",
    "\n",
    "print(f\"MODEL 6 SCORE REPORTs \\n \\nAccuracy:{accu_6} \\nPrecision:{preci_6} \\nRecall:{recall_6} \\nF1_score:{f1_6}\")"
   ]
  },
  {
   "cell_type": "markdown",
   "metadata": {},
   "source": [
    "* The differences in performance and report which model did the best jobs"
   ]
  },
  {
   "cell_type": "markdown",
   "metadata": {},
   "source": [
    "\n",
    "#  Model 6 took more time and thus has given us the best results as compared to model 4 which took less time. \n"
   ]
  },
  {
   "cell_type": "code",
   "execution_count": null,
   "metadata": {},
   "outputs": [],
   "source": []
  }
 ],
 "metadata": {
  "colab": {
   "name": "MNIST.ipynb",
   "provenance": [],
   "version": "0.3.2"
  },
  "kernelspec": {
   "display_name": "Python 3",
   "language": "python",
   "name": "python3"
  },
  "language_info": {
   "codemirror_mode": {
    "name": "ipython",
    "version": 3
   },
   "file_extension": ".py",
   "mimetype": "text/x-python",
   "name": "python",
   "nbconvert_exporter": "python",
   "pygments_lexer": "ipython3",
   "version": "3.7.9"
  }
 },
 "nbformat": 4,
 "nbformat_minor": 1
}
