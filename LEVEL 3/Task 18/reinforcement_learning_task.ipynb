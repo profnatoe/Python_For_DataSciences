{
 "cells": [
  {
   "cell_type": "markdown",
   "metadata": {},
   "source": [
    "## Reinforcement Learning Task\n",
    "\n",
    "For this task you will be required to solve a classic reinforcement learning problem: the [Multi-Armed Bandit problem](https://en.wikipedia.org/wiki/Multi-armed_bandit). \n",
    "\n",
    "In order to understand the Multi-Armed Bandit problem, imagine that you are in a casio facing multiple slot machines (let's say 10) in a row. Each of these slot machines allow you to play for free and has a maximum payout of 10 dollars. This means that each slot machine is guaranteed to give you a reward between 0 and 10 dollars. Each slot machine has a different average payout, and you have to figure out which one gives the most average reward so that you can maximise your reward in the shortest time possible. \n",
    "\n",
    "One way to do this would be to favour machines that had a good history of rewards relative to the number of times you pulled that machine. Chances are, however, that you wouldn’t just stick to one machine. You would probably also pull each of the machines a couple of times to get an idea of how each one behaved. In other words, would use a strategy  that is a mix of:\n",
    "\n",
    "* Exploring: trying out different machines; after all, how are you supposed to know which machine is the “best” if you don’t give each one a shot?\n",
    "\n",
    "* Exploiting: given the history of each machine, maximise your profit by picking the one with the best proportion of rewards to pulls.\n",
    "\n",
    "Choosing the right mix of exploration vs. exploitation is a difficult balance to achieve. Exploit too much, and you might miss out on the real best machine. Explore too much, and you’ll waste turns on subpar machines.\n",
    "\n",
    "\n",
    "## ϵ (epsilon)-greedy algorithm\n",
    "\n",
    "Different algorithms aimed at solving the Multi-Armed Bandit problem go about balancing exploration and exploitation in different ways. A famous approach to solving this problem is the ϵ (epsilon)-greedy algorithm. In \"greedy\" experiments, the lever with highest known payout is always pulled except when a random action is taken. A randomly chosen arm is pulled a fraction ϵ of the time. The other 1-ϵ of the time, the arm with highest known payout is pulled.\n",
    "\n",
    "The epsilon greedy strategy, essentially leaves this problem up to the user to solve by having them define a constant ϵ . ϵ  is then used by the algorithm in the following way:\n",
    "\n",
    "* Choose a random machine to pull with probability = ϵ.\n",
    "* Choose the best machine to pull with probability = 1 - ϵ.\n",
    "\n",
    "The algorithm defines the \"best\" machine very simply; it is just the one with the highest experimental mean. The experimental mean is calculated as the sum of the rewards from that machine divided by the number of times that machine has been pulled.\n",
    "\n",
    "\n",
    "## Exercise\n",
    "\n",
    "Complete the code below.\n",
    "\n",
    "---\n",
    "\n",
    "\n",
    "As always, we firstly need to import the necessary libraries and modules required to implement the algorithm."
   ]
  },
  {
   "cell_type": "code",
   "execution_count": 1,
   "metadata": {},
   "outputs": [],
   "source": [
    "import numpy as np\n",
    "import random\n",
    "import matplotlib.pyplot as plt\n",
    "%matplotlib inline\n",
    "np.random.seed(5)"
   ]
  },
  {
   "cell_type": "markdown",
   "metadata": {},
   "source": [
    "For this task we will be solving the 10-armed bandit problem. We therefore create a numpy array, arms, of length n filled with random floats that can be understood as probabilities of action of that arm. We choose an epsilon value of 0.1."
   ]
  },
  {
   "cell_type": "code",
   "execution_count": 2,
   "metadata": {},
   "outputs": [],
   "source": [
    "n = 10\n",
    "arms = np.random.rand(n)\n",
    "eps = 0.1 # probability of exploration action"
   ]
  },
  {
   "cell_type": "markdown",
   "metadata": {},
   "source": [
    "We now need to create a reward function. In this function, for each arm, you need to run a loop of 10 iterations, and generate a random float every time. If this random number is less than the probability of that arm, you'll add a 1 to the reward. After all iterations, you should have a value between 0 to 10."
   ]
  },
  {
   "cell_type": "code",
   "execution_count": 3,
   "metadata": {},
   "outputs": [],
   "source": [
    "def reward(prob):\n",
    "    reward = 0\n",
    "    # Complete this function\n",
    "    \n",
    "    for j in range(10):\n",
    "        randomfloat = np.random.ranf(1)\n",
    "        if randomfloat < prob:\n",
    "            reward+=1\n",
    "    return reward"
   ]
  },
  {
   "cell_type": "code",
   "execution_count": 4,
   "metadata": {},
   "outputs": [
    {
     "data": {
      "text/plain": [
       "[2, 8, 4, 8, 5, 4, 8, 7, 2, 1]"
      ]
     },
     "execution_count": 4,
     "metadata": {},
     "output_type": "execute_result"
    }
   ],
   "source": [
    "a = [reward(j) for j in arms]\n",
    "a"
   ]
  },
  {
   "cell_type": "markdown",
   "metadata": {},
   "source": [
    "We now initialise a memory array which has 1 row defaulted to random action index."
   ]
  },
  {
   "cell_type": "code",
   "execution_count": 5,
   "metadata": {},
   "outputs": [],
   "source": [
    "av = np.array([np.random.randint(0,(n+1)), 0]).reshape(1,2) #av = action-value"
   ]
  },
  {
   "cell_type": "markdown",
   "metadata": {},
   "source": [
    "Next, we define the bestArm function. This function is your greedy strategy of choosing the best arm so far. This function accepts a memory array that stores the history of all actions and their rewards. It is a 2 x k matrix where each row is an index reference to your arms array (1st element), and the reward received (2nd element). For example, if a row in your memory array is [2, 8], it means that action 2 was taken (the 3rd element in our arms array) and you received a reward of 8 for taking that action."
   ]
  },
  {
   "cell_type": "code",
   "execution_count": 10,
   "metadata": {},
   "outputs": [],
   "source": [
    "def bestArm(a):\n",
    "    bestArm = 0 #default to 0\n",
    "    bestMean = 0\n",
    "    # Complete this function\n",
    "    for u in a:\n",
    "        #calc. avg. reward\n",
    "        avg = np.mean(a[np.where(a[:,0] == u[0])][:, 1])\n",
    "        #compare bestMean and avg. should bestMean be less than avg =>\n",
    "        #update bestMean to avg and set bestArm to u[0]\n",
    "        if bestMean < avg: \n",
    "            bestMean = avg\n",
    "            bestArm = u[0]\n",
    "    return bestArm"
   ]
  },
  {
   "cell_type": "markdown",
   "metadata": {},
   "source": [
    "Finally we can create the main loop for each play. Let's play it 500 times and display a matplotlib scatter plot of the mean reward against the number of times the game is played."
   ]
  },
  {
   "cell_type": "code",
   "execution_count": 12,
   "metadata": {},
   "outputs": [
    {
     "data": {
      "image/png": "[encoded data removed]",
      "text/plain": [
       "<Figure size 432x288 with 1 Axes>"
      ]
     },
     "metadata": {
      "needs_background": "light"
     },
     "output_type": "display_data"
    }
   ],
   "source": [
    "for i in range(500):\n",
    "    if random.random() > eps: # exploitation action\n",
    "        # Complete this code\n",
    "        choice = bestArm(av)\n",
    "        thisAV = np.array([[choice, reward(arms[choice])]])\n",
    "        av = np.concatenate((av, thisAV), axis=0)\n",
    "    else: # exploration action\n",
    "        # Complete this code\n",
    "        choice = np.where(arms == np.random.choice(arms))[0][0]\n",
    "        thisAV = np.array([[choice, reward(arms[choice])]]) #choice, reward\n",
    "        av = np.concatenate((av, thisAV), axis=0) \n",
    "        \n",
    "    # Calculate the mean reward\n",
    "    runningMean = np.mean(av[:,1])\n",
    "    # Plot the mean reward against the number of times the game is played\n",
    "    plt.scatter(i, runningMean)\n",
    "    plt.xlabel('Number of times played')\n",
    "    plt.ylabel('Average Reward')"
   ]
  },
  {
   "cell_type": "markdown",
   "metadata": {},
   "source": [
    "If you have implemented the algorithm correctly, you should see that your agent learns to choose the arm which gives it the maximum average reward after several iterations of gameplay. "
   ]
  },
  {
   "cell_type": "code",
   "execution_count": null,
   "metadata": {},
   "outputs": [],
   "source": []
  }
 ],
 "metadata": {
  "kernelspec": {
   "display_name": "Python 3",
   "language": "python",
   "name": "python3"
  },
  "language_info": {
   "codemirror_mode": {
    "name": "ipython",
    "version": 3
   },
   "file_extension": ".py",
   "mimetype": "text/x-python",
   "name": "python",
   "nbconvert_exporter": "python",
   "pygments_lexer": "ipython3",
   "version": "3.7.9"
  }
 },
 "nbformat": 4,
 "nbformat_minor": 2
}
