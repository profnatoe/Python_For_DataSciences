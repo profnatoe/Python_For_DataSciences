{
 "cells": [
  {
   "cell_type": "markdown",
   "metadata": {
    "colab_type": "text",
    "id": "eHGm8RQlK46m"
   },
   "source": [
    "# Get and explore dataset"
   ]
  },
  {
   "cell_type": "code",
   "execution_count": 24,
   "metadata": {
    "colab": {},
    "colab_type": "code",
    "id": "-erlYw1jXtgh"
   },
   "outputs": [],
   "source": [
    "import matplotlib.pyplot as plt\n",
    "from matplotlib import pyplot\n",
    "import numpy as np\n",
    "import seaborn as sn\n",
    "from keras.preprocessing import sequence\n",
    "from keras.models import Sequential\n",
    "from keras.layers import Dense, Embedding, Conv1D, GlobalMaxPooling1D\n",
    "import re\n",
    "from keras.preprocessing.sequence import pad_sequences"
   ]
  },
  {
   "cell_type": "code",
   "execution_count": 2,
   "metadata": {
    "colab": {},
    "colab_type": "code",
    "id": "goZIhX8nII4T"
   },
   "outputs": [],
   "source": [
    "# Make results reproducible - set random seed\n",
    "from numpy.random import seed\n",
    "seed(42)"
   ]
  },
  {
   "cell_type": "code",
   "execution_count": 3,
   "metadata": {
    "colab": {},
    "colab_type": "code",
    "id": "v_fEysQHII4W",
    "tags": []
   },
   "outputs": [],
   "source": [
    "negative_file = \"negative.txt\"\n",
    "positive_file = \"positive.txt\""
   ]
  },
  {
   "cell_type": "code",
   "execution_count": 4,
   "metadata": {
    "colab": {},
    "colab_type": "code",
    "id": "0rWm4yycII4Y",
    "tags": []
   },
   "outputs": [],
   "source": [
    "# Do not modify - helper function to load and preprocess data\n",
    "def filter_words(line):    \n",
    "    line = re.sub(r'[^\\w\\s]','',line.rstrip())\n",
    "    words = line.split(\" \") \n",
    "    words = [i.lower() for i in words if i]      \n",
    "    return \" \".join(words)\n",
    "\n",
    "def load_data(filename):\n",
    "    thefile = open(filename, 'r') \n",
    "    lines = thefile.readlines() \n",
    "\n",
    "    data = []\n",
    "    for l in range(0,len(lines)): \n",
    "        if(lines[l-1].strip() == \"<title>\"): \n",
    "            theline = filter_words(lines[l])\n",
    "            if(len(theline) < 50):\n",
    "                data.append(theline)            \n",
    "            \n",
    "    return data\n",
    "\n",
    "# Helper function to convert categorical data to class label\n",
    "def to_word_label(y):\n",
    "    y = to_class(y)   \n",
    "    return [\"positive\" if i==0 else \"negative\" for i in y]\n",
    "\n",
    "# Helper function to convert class label to numeric label\n",
    "def to_numeric_label(y):\n",
    "  return [0 if i==\"positive\" else 1 for i in word_labels]\n",
    "\n",
    "# Helper function: this function needs to be called before sending arrays to sklearn metrics,\n",
    "# it converts back to class form from categorical form. ie: [1,0] --> 0, [0,1] --> 1\n",
    "def to_class(y):\n",
    "    return np.argmax(y,axis=1) "
   ]
  },
  {
   "cell_type": "code",
   "execution_count": 5,
   "metadata": {
    "colab": {
     "base_uri": "https://localhost:8080/",
     "height": 70
    },
    "colab_type": "code",
    "id": "jjGUiFm9II4b",
    "outputId": "aa5eb89b-85f2-4d61-f33a-b00361b19a41",
    "tags": []
   },
   "outputs": [
    {
     "name": "stdout",
     "output_type": "stream",
     "text": [
      "['one of the best crichton novels', 'the medicine of the future', 'beautiful', 'for lovers of robicheaux', 'a good book', 'to the point and beautifully illustrated', 'at least somebody has got it', 'beautifully written heartwarming story', 'an excellent cookbook full of delicious recipes', 'an outstanding resource']\n",
      "['horrible book horrible', 'shallow selfindulgence', 'horrible book horrible', 'disappointment', 'a disappointing mess', 'save your money there are better books out there', 'thank you but no thanks', 'unendurable', 'the hard way', 'some good info among the political commercial']\n"
     ]
    }
   ],
   "source": [
    "positive = load_data(positive_file)\n",
    "negative = load_data(negative_file)\n",
    "\n",
    "print(positive[0:10])\n",
    "print(negative[0:10])"
   ]
  },
  {
   "cell_type": "code",
   "execution_count": 6,
   "metadata": {
    "colab": {},
    "colab_type": "code",
    "id": "yrgEYOOCII4d",
    "tags": []
   },
   "outputs": [],
   "source": [
    "# Do not modify - Combines the positive and negative reviews into a single list and create labels\n",
    "data = positive + negative\n",
    "word_labels = [\"positive\"] * len(positive) + [\"negative\"] * len(negative) \n",
    "\n",
    "# Converts labels to numbers in one-hot encoding - [1, 0] (positive) or [0, 1] (negative)\n",
    "from keras.utils import to_categorical\n",
    "labels  = to_categorical(to_numeric_label(word_labels))"
   ]
  },
  {
   "cell_type": "code",
   "execution_count": 7,
   "metadata": {
    "colab": {},
    "colab_type": "code",
    "id": "97Uh2uBpII4l",
    "tags": []
   },
   "outputs": [
    {
     "name": "stdout",
     "output_type": "stream",
     "text": [
      "Max Review Size: 49 characters.\n",
      "Min Review Size: 2 characters.\n",
      "Mean Review Size: 25 characters.\n",
      "25th Review Size Percentile: 16 characters.\n",
      "75th Review Size Percentile: 33 characters.\n",
      "Review Size Standard Deviation: 11.28 characters.\n"
     ]
    },
    {
     "data": {
      "image/png": "[encoded data removed]",
      "text/plain": [
       "<Figure size 432x288 with 1 Axes>"
      ]
     },
     "metadata": {
      "needs_background": "light"
     },
     "output_type": "display_data"
    },
    {
     "name": "stdout",
     "output_type": "stream",
     "text": [
      "There are 7776 words in the data set.\n",
      "There are 1793 reviews in the dataset with 872 positive and 921 negative reviews.\n",
      "This give us 48.6% Positive and 51.4% Negative Reviews.\n",
      "\n",
      "There are 1490 unique word in the positive reviews. Here is the Top 10\n",
      "[('a', 173), ('the', 157), ('book', 108), ('of', 95), ('and', 82), ('great', 63), ('to', 62), ('for', 59), ('read', 49), ('good', 44)]\n",
      "\n",
      "There are 1517 unique word in the negative reviews. Here is the Top 10:\n",
      "[('the', 133), ('a', 129), ('not', 93), ('of', 82), ('and', 80), ('book', 78), ('for', 64), ('this', 62), ('is', 48), ('to', 47)]\n"
     ]
    }
   ],
   "source": [
    "# Write some code to investigate the dataset. \n",
    "# - Calculate and report the mean review size, its standard deviation and create a boxplot.\n",
    "review_size_list = [len(review) for review in data]\n",
    "print(f\"Max Review Size: {np.amax(review_size_list)} characters.\")\n",
    "print(f\"Min Review Size: {np.amin(review_size_list)} characters.\")\n",
    "print(f\"Mean Review Size: {sum(review_size_list) / len(data):.0f} characters.\")\n",
    "print(f\"25th Review Size Percentile: {np.percentile(review_size_list,25):.0f} characters.\")\n",
    "print(f\"75th Review Size Percentile: {np.percentile(review_size_list,75):.0f} characters.\")\n",
    "print(f\"Review Size Standard Deviation: {np.std(review_size_list):.2f} characters.\")\n",
    "plt.boxplot(review_size_list)\n",
    "plt.show()\n",
    "\n",
    "# - Calculate the number of words in the dataset\n",
    "word_count = 0\n",
    "for review in data:\n",
    "  word_count += len(re.findall(r'\\w+', review))\n",
    "print(f\"There are {word_count} words in the data set.\")\n",
    "\n",
    "# - Perform any other dataset investigation that you feel would be valuable\n",
    "print(f\"There are {len(data)} reviews in the dataset with {len(positive)} positive and {len(negative)} negative reviews.\")\n",
    "print(f\"This give us {(len(positive) / len(data)) * 100:.1f}% Positive and {(len(negative) / len(data)) * 100:.1f}% Negative Reviews.\")\n",
    "\n",
    "\n",
    "\n",
    "# Count the occurence of each unique word in Positive reviews\n",
    "positive_word_dict = {}\n",
    "for review in positive:\n",
    "  wordlist = review.split()\n",
    "  for word in wordlist:\n",
    "    if word in positive_word_dict:\n",
    "      positive_word_dict[word] += 1\n",
    "    else:\n",
    "      positive_word_dict[word] = 1\n",
    "\n",
    "# Count the occurance of each unique word in Negative Reviews\n",
    "negative_word_dict = {}\n",
    "for review in negative:\n",
    "  wordlist = review.split()\n",
    "  for word in wordlist:\n",
    "    if word in negative_word_dict:\n",
    "      negative_word_dict[word] += 1\n",
    "    else:\n",
    "      negative_word_dict[word] = 1\n",
    "\n",
    "print(f\"\\nThere are {len(positive_word_dict)} unique word in the positive reviews. Here is the Top 10\")\n",
    "print(sorted(positive_word_dict.items(), key=lambda x: x[1], reverse=True)[0:10])\n",
    "print(f\"\\nThere are {len(negative_word_dict)} unique word in the negative reviews. Here is the Top 10:\")\n",
    "print(sorted(negative_word_dict.items(), key=lambda x: x[1], reverse=True)[0:10])"
   ]
  },
  {
   "cell_type": "code",
   "execution_count": 9,
   "metadata": {
    "colab": {
     "base_uri": "https://localhost:8080/",
     "height": 50
    },
    "colab_type": "code",
    "id": "_XXnArgcII4i",
    "outputId": "020b2ee2-4c2a-4bc0-bb55-e2ae3841fe57",
    "tags": []
   },
   "outputs": [
    {
     "name": "stdout",
     "output_type": "stream",
     "text": [
      "['one of the best crichton novels', 'the medicine of the future', 'beautiful', 'for lovers of robicheaux', 'a good book']\n",
      "[[18, 4, 2, 19], [2, 4, 2], [], [6, 4], [1, 12, 3]]\n"
     ]
    }
   ],
   "source": [
    "# Do not modify - Tokenize the vocabulary \n",
    "from keras.preprocessing.text import Tokenizer\n",
    "\n",
    "tokenizer = Tokenizer(num_words=25)\n",
    "\n",
    "tokenizer.fit_on_texts(data) #create the vocabularry\n",
    "\n",
    "tokenized_data = tokenizer.texts_to_sequences(data) #tokenize the data using the vocabulary\n",
    "\n",
    "vocab_size = len(tokenizer.word_index) + 1 \n",
    "\n",
    "# Compare a sample of the data before and after tokenization\n",
    "print(data[0:5])\n",
    "print(tokenized_data[0:5])"
   ]
  },
  {
   "cell_type": "markdown",
   "metadata": {
    "colab_type": "text",
    "id": "_vsMmLjdK1Gf"
   },
   "source": [
    "# Pre-processing"
   ]
  },
  {
   "cell_type": "code",
   "execution_count": 12,
   "metadata": {
    "colab": {},
    "colab_type": "code",
    "id": "AFTJcFy6II4s",
    "tags": []
   },
   "outputs": [
    {
     "name": "stdout",
     "output_type": "stream",
     "text": [
      "Average words per review: 4.34\n",
      "Maximum words per review: 12\n",
      "Average tokens per review: 1.32\n",
      "Maximum tokens per review: 7\n",
      "\n",
      "Number of occurences of each number of tokens per review:\n",
      "(array([0, 1, 2, 3, 4, 5, 6, 7]), array([545, 581, 360, 203,  64,  32,   7,   1], dtype=int64))\n"
     ]
    }
   ],
   "source": [
    "# Pre-processing\n",
    "# Write some code to pre-process the data so that each review is the same length\n",
    "# Count Words per Review and calculate mean and max\n",
    "\n",
    "# See Note below \n",
    "\n",
    "words_per_review = [len(review.split()) for review in data]\n",
    "print(f\"Average words per review: {sum(words_per_review) / len(data):.2f}\")\n",
    "print(f\"Maximum words per review: {np.amax(words_per_review):.0f}\")\n",
    "\n",
    "tokens_per_review = [len(review) for review in tokenized_data]\n",
    "print(f\"Average tokens per review: {sum(tokens_per_review) / len(tokenized_data):.2f}\")\n",
    "print(f\"Maximum tokens per review: {np.amax(tokens_per_review):.0f}\")\n",
    "print(\"\\nNumber of occurences of each number of tokens per review:\")\n",
    "print(np.unique(tokens_per_review, return_counts=True))\n",
    "\n",
    "maxlen = 5\n",
    "\n",
    "processed_data = pad_sequences(tokenized_data, maxlen=maxlen, dtype='int32', padding='post', truncating='post', value=0)"
   ]
  },
  {
   "cell_type": "code",
   "execution_count": 13,
   "metadata": {
    "colab": {
     "base_uri": "https://localhost:8080/",
     "height": 128
    },
    "colab_type": "code",
    "id": "lDth1BSzII4u",
    "outputId": "4614049a-7151-4407-9bc8-54604bbe7fdd"
   },
   "outputs": [],
   "source": [
    "# Write some code to split the data into a training and test set. Make sure you shuffle the data. Use 20% for the test set.\n",
    "from sklearn.model_selection import train_test_split\n",
    "X_train, X_test, y_train, y_test = train_test_split(processed_data, labels, test_size=0.2, shuffle=True)"
   ]
  },
  {
   "cell_type": "code",
   "execution_count": 14,
   "metadata": {
    "colab": {},
    "colab_type": "code",
    "id": "24DaXd1zII4q",
    "tags": []
   },
   "outputs": [],
   "source": [
    "from sklearn.metrics import confusion_matrix, precision_score, recall_score, f1_score\n",
    "\n",
    "# Fill in the following function so it\n",
    "# - makes a prediction for the test set given the model\n",
    "# - reports the precision, recall and f1 score. Also print the confusion matrix. \n",
    "# You will need to use the helper to_class function to convert y_pred and y_test before supplying them to the sklearn functions.\n",
    "\n",
    "def assess_model(model, X_test, y_test):      \n",
    "    y_pred = model.predict(X_test)\n",
    "    # Convert to classes\n",
    "    y_pred_class = to_class(y_pred)\n",
    "    y_test_class = to_class(y_test)\n",
    "    #Display Metrics\n",
    "    print(f\"F1 Score        : {f1_score(y_test_class, y_pred_class):.3f}\")\n",
    "    print(f\"Precision Score : {precision_score(y_test_class, y_pred_class):.3f}\")\n",
    "    print(f\"Recall Score    : {recall_score(y_test_class, y_pred_class):.3f}\")\n",
    "    print(\"\\n\\nConfusion Matrix\\n\\n\")\n",
    "    # Calculate Confusion Matrix    \n",
    "    cm = confusion_matrix(y_test_class, y_pred_class)\n",
    "    #Plot Confusion matrix using seaborn\n",
    "    sn.set(font_scale=2)\n",
    "    sn.heatmap(cm, \n",
    "               annot=True, \n",
    "               annot_kws={\"size\": 15}, \n",
    "               xticklabels=[\"True False\",\"True Positive\"], \n",
    "               yticklabels=[\"Predicted False\",\"Predicted Positive\"], \n",
    "               square=True,\n",
    "               cmap=\"Blues\")\n",
    "    plt.show()"
   ]
  },
  {
   "cell_type": "markdown",
   "metadata": {
    "colab_type": "text",
    "id": "nTqLbbE6MpGt"
   },
   "source": [
    "# Build and tune model"
   ]
  },
  {
   "cell_type": "markdown",
   "metadata": {
    "colab_type": "text",
    "id": "3X70rA4uMXNv"
   },
   "source": [
    "Define network architecture"
   ]
  },
  {
   "cell_type": "code",
   "execution_count": 15,
   "metadata": {
    "colab": {},
    "colab_type": "code",
    "id": "wKoXWKG4II5F"
   },
   "outputs": [],
   "source": [
    "import tensorflow as tf\n",
    "from tensorflow import keras\n",
    "from tensorflow.keras import layers\n",
    "\n",
    "def define_model(od=32):\n",
    "  model = keras.Sequential()\n",
    "  model.add(layers.Embedding(input_dim=vocab_size, output_dim=od))\n",
    "  model.add(layers.SpatialDropout1D(rate=0.2))\n",
    "  model.add(layers.BatchNormalization())\n",
    "  model.add(layers.LSTM(units=32))\n",
    "  model.add(layers.Dense(units=2, activation='softmax'))\n",
    "  model.compile(optimizer='adam', loss='binary_crossentropy', metrics=['accuracy'])\n",
    "  model.summary()\n",
    "  return model\n",
    "\n"
   ]
  },
  {
   "cell_type": "markdown",
   "metadata": {
    "colab_type": "text",
    "id": "llS0-VKBMbz-"
   },
   "source": [
    "Train model"
   ]
  },
  {
   "cell_type": "code",
   "execution_count": 16,
   "metadata": {
    "colab": {},
    "colab_type": "code",
    "id": "F5IJs0QuMe_I"
   },
   "outputs": [],
   "source": [
    "# Define parameter to use\n",
    "epoch = 5\n",
    "out_dim_list = [10,25,32,50,100]\n",
    "\n",
    "def train_model():\n",
    "  model.fit(X_train, y_train, epochs=epoch, batch_size=10)\n",
    "\n"
   ]
  },
  {
   "cell_type": "code",
   "execution_count": 17,
   "metadata": {},
   "outputs": [],
   "source": [
    "# Only run once before training and tuning model\n",
    "cvscores = []"
   ]
  },
  {
   "cell_type": "code",
   "execution_count": 18,
   "metadata": {},
   "outputs": [],
   "source": [
    "def store_metrics(output_dim):\n",
    "  # Run after every model train to add results and compare afterwards\n",
    "  scores = model.evaluate(X_test, y_test, verbose=0)\n",
    "  cvscores.append([output_dim, epoch, scores[1], scores[0]])"
   ]
  },
  {
   "cell_type": "code",
   "execution_count": 19,
   "metadata": {},
   "outputs": [
    {
     "name": "stdout",
     "output_type": "stream",
     "text": [
      "WARNING:tensorflow:From C:\\Users\\Nando\\Anaconda3\\envs\\tf\\lib\\site-packages\\tensorflow_core\\python\\keras\\initializers.py:119: calling RandomUniform.__init__ (from tensorflow.python.ops.init_ops) with dtype is deprecated and will be removed in a future version.\n",
      "Instructions for updating:\n",
      "Call initializer instance with the dtype argument instead of passing it to the constructor\n",
      "WARNING:tensorflow:From C:\\Users\\Nando\\Anaconda3\\envs\\tf\\lib\\site-packages\\tensorflow_core\\python\\ops\\resource_variable_ops.py:1630: calling BaseResourceVariable.__init__ (from tensorflow.python.ops.resource_variable_ops) with constraint is deprecated and will be removed in a future version.\n",
      "Instructions for updating:\n",
      "If using Keras pass *_constraint arguments to layers.\n",
      "Model: \"sequential\"\n",
      "_________________________________________________________________\n",
      "Layer (type)                 Output Shape              Param #   \n",
      "=================================================================\n",
      "embedding (Embedding)        (None, None, 10)          25600     \n",
      "_________________________________________________________________\n",
      "spatial_dropout1d (SpatialDr (None, None, 10)          0         \n",
      "_________________________________________________________________\n",
      "batch_normalization (BatchNo (None, None, 10)          40        \n",
      "_________________________________________________________________\n",
      "lstm (LSTM)                  (None, 32)                5504      \n",
      "_________________________________________________________________\n",
      "dense (Dense)                (None, 2)                 66        \n",
      "=================================================================\n",
      "Total params: 31,210\n",
      "Trainable params: 31,190\n",
      "Non-trainable params: 20\n",
      "_________________________________________________________________\n",
      "WARNING:tensorflow:From C:\\Users\\Nando\\Anaconda3\\envs\\tf\\lib\\site-packages\\tensorflow_core\\python\\ops\\math_grad.py:1424: where (from tensorflow.python.ops.array_ops) is deprecated and will be removed in a future version.\n",
      "Instructions for updating:\n",
      "Use tf.where in 2.0, which has the same broadcast rule as np.where\n",
      "Train on 1434 samples\n",
      "Epoch 1/5\n",
      "1434/1434 [==============================] - 2s 1ms/sample - loss: 0.6892 - acc: 0.5418\n",
      "Epoch 2/5\n",
      "1434/1434 [==============================] - 1s 731us/sample - loss: 0.6656 - acc: 0.5921\n",
      "Epoch 3/5\n",
      "1434/1434 [==============================] - 1s 721us/sample - loss: 0.6531 - acc: 0.6046\n",
      "Epoch 4/5\n",
      "1434/1434 [==============================] - 1s 720us/sample - loss: 0.6431 - acc: 0.6367\n",
      "Epoch 5/5\n",
      "1434/1434 [==============================] - 1s 742us/sample - loss: 0.6443 - acc: 0.6067\n",
      "Model: \"sequential_1\"\n",
      "_________________________________________________________________\n",
      "Layer (type)                 Output Shape              Param #   \n",
      "=================================================================\n",
      "embedding_1 (Embedding)      (None, None, 25)          64000     \n",
      "_________________________________________________________________\n",
      "spatial_dropout1d_1 (Spatial (None, None, 25)          0         \n",
      "_________________________________________________________________\n",
      "batch_normalization_1 (Batch (None, None, 25)          100       \n",
      "_________________________________________________________________\n",
      "lstm_1 (LSTM)                (None, 32)                7424      \n",
      "_________________________________________________________________\n",
      "dense_1 (Dense)              (None, 2)                 66        \n",
      "=================================================================\n",
      "Total params: 71,590\n",
      "Trainable params: 71,540\n",
      "Non-trainable params: 50\n",
      "_________________________________________________________________\n",
      "Train on 1434 samples\n",
      "Epoch 1/5\n",
      "1434/1434 [==============================] - 2s 1ms/sample - loss: 0.6825 - acc: 0.5579\n",
      "Epoch 2/5\n",
      "1434/1434 [==============================] - 1s 637us/sample - loss: 0.6632 - acc: 0.6018\n",
      "Epoch 3/5\n",
      "1434/1434 [==============================] - 1s 653us/sample - loss: 0.6492 - acc: 0.6192\n",
      "Epoch 4/5\n",
      "1434/1434 [==============================] - 1s 670us/sample - loss: 0.6430 - acc: 0.6269\n",
      "Epoch 5/5\n",
      "1434/1434 [==============================] - 1s 621us/sample - loss: 0.6323 - acc: 0.6213\n",
      "Model: \"sequential_2\"\n",
      "_________________________________________________________________\n",
      "Layer (type)                 Output Shape              Param #   \n",
      "=================================================================\n",
      "embedding_2 (Embedding)      (None, None, 32)          81920     \n",
      "_________________________________________________________________\n",
      "spatial_dropout1d_2 (Spatial (None, None, 32)          0         \n",
      "_________________________________________________________________\n",
      "batch_normalization_2 (Batch (None, None, 32)          128       \n",
      "_________________________________________________________________\n",
      "lstm_2 (LSTM)                (None, 32)                8320      \n",
      "_________________________________________________________________\n",
      "dense_2 (Dense)              (None, 2)                 66        \n",
      "=================================================================\n",
      "Total params: 90,434\n",
      "Trainable params: 90,370\n",
      "Non-trainable params: 64\n",
      "_________________________________________________________________\n",
      "Train on 1434 samples\n",
      "Epoch 1/5\n",
      "1434/1434 [==============================] - 2s 1ms/sample - loss: 0.6856 - acc: 0.5586\n",
      "Epoch 2/5\n",
      "1434/1434 [==============================] - 1s 687us/sample - loss: 0.6680 - acc: 0.5948\n",
      "Epoch 3/5\n",
      "1434/1434 [==============================] - 1s 648us/sample - loss: 0.6531 - acc: 0.6046\n",
      "Epoch 4/5\n",
      "1434/1434 [==============================] - 1s 651us/sample - loss: 0.6413 - acc: 0.6165\n",
      "Epoch 5/5\n",
      "1434/1434 [==============================] - 1s 641us/sample - loss: 0.6354 - acc: 0.6234\n",
      "Model: \"sequential_3\"\n",
      "_________________________________________________________________\n",
      "Layer (type)                 Output Shape              Param #   \n",
      "=================================================================\n",
      "embedding_3 (Embedding)      (None, None, 50)          128000    \n",
      "_________________________________________________________________\n",
      "spatial_dropout1d_3 (Spatial (None, None, 50)          0         \n",
      "_________________________________________________________________\n",
      "batch_normalization_3 (Batch (None, None, 50)          200       \n",
      "_________________________________________________________________\n",
      "lstm_3 (LSTM)                (None, 32)                10624     \n",
      "_________________________________________________________________\n",
      "dense_3 (Dense)              (None, 2)                 66        \n",
      "=================================================================\n",
      "Total params: 138,890\n",
      "Trainable params: 138,790\n",
      "Non-trainable params: 100\n",
      "_________________________________________________________________\n",
      "Train on 1434 samples\n",
      "Epoch 1/5\n",
      "1434/1434 [==============================] - 2s 1ms/sample - loss: 0.6906 - acc: 0.5342\n",
      "Epoch 2/5\n",
      "1434/1434 [==============================] - 1s 572us/sample - loss: 0.6621 - acc: 0.5948\n",
      "Epoch 3/5\n",
      "1434/1434 [==============================] - 1s 612us/sample - loss: 0.6458 - acc: 0.6185\n",
      "Epoch 4/5\n",
      "1434/1434 [==============================] - 1s 660us/sample - loss: 0.6389 - acc: 0.6116\n",
      "Epoch 5/5\n",
      "1434/1434 [==============================] - 1s 556us/sample - loss: 0.6283 - acc: 0.6165\n",
      "Model: \"sequential_4\"\n",
      "_________________________________________________________________\n",
      "Layer (type)                 Output Shape              Param #   \n",
      "=================================================================\n",
      "embedding_4 (Embedding)      (None, None, 100)         256000    \n",
      "_________________________________________________________________\n",
      "spatial_dropout1d_4 (Spatial (None, None, 100)         0         \n",
      "_________________________________________________________________\n",
      "batch_normalization_4 (Batch (None, None, 100)         400       \n",
      "_________________________________________________________________\n",
      "lstm_4 (LSTM)                (None, 32)                17024     \n",
      "_________________________________________________________________\n",
      "dense_4 (Dense)              (None, 2)                 66        \n",
      "=================================================================\n",
      "Total params: 273,490\n",
      "Trainable params: 273,290\n",
      "Non-trainable params: 200\n",
      "_________________________________________________________________\n"
     ]
    },
    {
     "name": "stdout",
     "output_type": "stream",
     "text": [
      "Train on 1434 samples\n",
      "Epoch 1/5\n",
      "1434/1434 [==============================] - 2s 1ms/sample - loss: 0.6837 - acc: 0.5607\n",
      "Epoch 2/5\n",
      "1434/1434 [==============================] - 1s 684us/sample - loss: 0.6615 - acc: 0.5983\n",
      "Epoch 3/5\n",
      "1434/1434 [==============================] - 1s 695us/sample - loss: 0.6500 - acc: 0.6290\n",
      "Epoch 4/5\n",
      "1434/1434 [==============================] - 1s 723us/sample - loss: 0.6450 - acc: 0.6046\n",
      "Epoch 5/5\n",
      "1434/1434 [==============================] - 1s 702us/sample - loss: 0.6342 - acc: 0.6123\n"
     ]
    }
   ],
   "source": [
    "for outdim in out_dim_list:\n",
    "  model = define_model(outdim)\n",
    "  train_model()\n",
    "  store_metrics(outdim)"
   ]
  },
  {
   "cell_type": "markdown",
   "metadata": {
    "colab_type": "text",
    "id": "rniBBEiyMRKD"
   },
   "source": [
    "Examine performance of model"
   ]
  },
  {
   "cell_type": "code",
   "execution_count": 22,
   "metadata": {
    "colab": {},
    "colab_type": "code",
    "id": "eBVogHg2II5T",
    "tags": []
   },
   "outputs": [
    {
     "name": "stdout",
     "output_type": "stream",
     "text": [
      "Epochs | Accuracy | Loss  | OP_Dim\n",
      "----------------------------------\n",
      "    5  |  59.05%  | 0.6545|   10\n",
      "    5  |  59.89%  | 0.6600|   25\n",
      "    5  |  57.10%  | 0.6645|   32\n",
      "    5  |  60.45%  | 0.6592|   50\n",
      "    5  |  61.00%  | 0.6588|  100\n"
     ]
    }
   ],
   "source": [
    "print(\"Epochs | Accuracy | Loss  | OP_Dim\\n----------------------------------\")\n",
    "for i in range(len(cvscores)):\n",
    "    print(f\" {cvscores[i][1]:4}  |{cvscores[i][2] * 100:7.2f}%  |{cvscores[i][3]:7.4f}|{cvscores[i][0]:5}\")"
   ]
  },
  {
   "cell_type": "code",
   "execution_count": 25,
   "metadata": {},
   "outputs": [
    {
     "name": "stdout",
     "output_type": "stream",
     "text": [
      "F1 Score        : 0.626\n",
      "Precision Score : 0.613\n",
      "Recall Score    : 0.639\n",
      "\n",
      "\n",
      "Confusion Matrix\n",
      "\n",
      "\n"
     ]
    },
    {
     "data": {
      "image/png": "[encoded data removed]",
      "text/plain": [
       "<Figure size 432x288 with 2 Axes>"
      ]
     },
     "metadata": {},
     "output_type": "display_data"
    }
   ],
   "source": [
    "assess_model(model, X_test, y_test)"
   ]
  },
  {
   "cell_type": "markdown",
   "metadata": {
    "colab_type": "text",
    "id": "HB8kzt-IME4U"
   },
   "source": [
    "Plot graphs for accuracy and loss"
   ]
  },
  {
   "cell_type": "code",
   "execution_count": 26,
   "metadata": {
    "colab": {},
    "colab_type": "code",
    "id": "hPyJ78unMJUI"
   },
   "outputs": [
    {
     "data": {
      "image/png": "[encoded data removed]",
      "text/plain": [
       "<Figure size 720x504 with 1 Axes>"
      ]
     },
     "metadata": {},
     "output_type": "display_data"
    }
   ],
   "source": [
    "eps, acc, loss = [], [], []\n",
    "for i in range(len(cvscores)):\n",
    "  eps.append(cvscores[i][0])\n",
    "  acc.append(cvscores[i][2])\n",
    "  loss.append(cvscores[i][3])\n",
    "plt.figure(figsize=(10,7))\n",
    "plt.plot(eps, acc, label=\"Accuracy\")\n",
    "plt.plot(eps, loss, label=\"loss\")\n",
    "plt.xlabel('Op Dimensions')\n",
    "plt.title('Accuracy and loss for n Op Dimesions')\n",
    "plt.legend()\n",
    "plt.show()"
   ]
  },
  {
   "cell_type": "markdown",
   "metadata": {
    "colab_type": "text",
    "id": "eAZ1LyFBMLoK"
   },
   "source": [
    "# Make a prediction"
   ]
  },
  {
   "cell_type": "code",
   "execution_count": 27,
   "metadata": {
    "colab": {},
    "colab_type": "code",
    "id": "vfPM5LokII5V",
    "tags": []
   },
   "outputs": [],
   "source": [
    "# This is a very small set of completed new data to use to make predictions.\n",
    "prediction_data = [\"this book is fabulous\",\"i hated this book\", \"the best\", \"no good\", \"okay\"]\n",
    "tokenized = tokenizer.texts_to_sequences(prediction_data)\n",
    "padded = pad_sequences(tokenized, padding='post', maxlen=maxlen)\n",
    "\n",
    "# Supply this data to each of your models and see how it does. \n",
    "# You can call the helper function \"to_word_label\" to map the output of the model to the name of the\n",
    "# class it was predicted to belong to.\n",
    "\n",
    "y_pred = model.predict(padded)\n",
    "\n",
    "\n"
   ]
  },
  {
   "cell_type": "code",
   "execution_count": 28,
   "metadata": {},
   "outputs": [
    {
     "name": "stdout",
     "output_type": "stream",
     "text": [
      "['this book is fabulous', 'i hated this book', 'the best', 'no good', 'okay'] ['negative', 'negative', 'positive', 'positive', 'negative']\n"
     ]
    }
   ],
   "source": [
    "print(prediction_data, to_word_label(y_pred))"
   ]
  },
  {
   "cell_type": "code",
   "execution_count": null,
   "metadata": {},
   "outputs": [],
   "source": []
  }
 ],
 "metadata": {
  "colab": {
   "collapsed_sections": [],
   "name": "L3T20.ipynb",
   "provenance": []
  },
  "kernelspec": {
   "display_name": "Python 3",
   "language": "python",
   "name": "python3"
  },
  "language_info": {
   "codemirror_mode": {
    "name": "ipython",
    "version": 3
   },
   "file_extension": ".py",
   "mimetype": "text/x-python",
   "name": "python",
   "nbconvert_exporter": "python",
   "pygments_lexer": "ipython3",
   "version": "3.7.9"
  }
 },
 "nbformat": 4,
 "nbformat_minor": 1
}
