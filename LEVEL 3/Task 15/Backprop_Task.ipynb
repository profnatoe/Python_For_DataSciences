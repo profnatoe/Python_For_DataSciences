{
 "cells": [
  {
   "cell_type": "markdown",
   "metadata": {
    "colab_type": "text",
    "id": "ShegQlg-otj6"
   },
   "source": [
    "## Backpropagation Exercise\n",
    "In this exercise we will use backpropagation to train a multi-layer perceptron (MLP). Multilayer perceptrons can be called the 'basic' variety of neural networks. They have an input layer, a number of hidden layers, and an output layer. First, let's create our input."
   ]
  },
  {
   "cell_type": "markdown",
   "metadata": {
    "colab_type": "text",
    "id": "8x7zgidCnxNk"
   },
   "source": [
    "This code below generates two input values (x) and an output value (y) according to different patterns that are not linear.\n",
    "It also adds a bias term (a vector of 1s) to the input. Adding a bias term to the input like this and initialising it to 1 is a trick that often improves performance. This bias term is not directly updated, but the weight matrix will include a row that, when multiplied with our x_mat_full, does with the bias term what the algorithm deems right for the task."
   ]
  },
  {
   "cell_type": "code",
   "execution_count": 1,
   "metadata": {
    "colab": {},
    "colab_type": "code",
    "id": "cyrVwgpootj_"
   },
   "outputs": [],
   "source": [
    "#Preliminaries\n",
    "from __future__ import division, print_function\n",
    "import numpy as np\n",
    "import matplotlib.pyplot as plt\n",
    "from sklearn.metrics import accuracy_score\n",
    "%matplotlib inline"
   ]
  },
  {
   "cell_type": "code",
   "execution_count": 2,
   "metadata": {
    "colab": {},
    "colab_type": "code",
    "id": "WE_ChNcsc7dt"
   },
   "outputs": [],
   "source": [
    "## create input\n",
    "\n",
    "num_obs = 500\n",
    "x = np.random.uniform(-1,1,size = (num_obs,2))\n",
    "bias = np.ones((num_obs,1))\n",
    "x_mat_full = np.concatenate( (x,bias), axis=1)"
   ]
  },
  {
   "cell_type": "markdown",
   "metadata": {
    "colab_type": "text",
    "id": "s98ssG2YnvCA"
   },
   "source": [
    "We will see how this architecture can model non-linear patterns in data. We will experiment with different non-linear patterns and see how quickly or slowly the weights converge. We start of by picking just one kind of non-linear categorisation."
   ]
  },
  {
   "cell_type": "code",
   "execution_count": 3,
   "metadata": {
    "colab": {
     "base_uri": "https://localhost:8080/",
     "height": 371
    },
    "colab_type": "code",
    "id": "Bm8pPPADotkV",
    "outputId": "5ac4ca55-6e3c-4911-842b-5daafb2af4e9"
   },
   "outputs": [
    {
     "name": "stdout",
     "output_type": "stream",
     "text": [
      "shape of x_mat_full is (500, 3)\n",
      "shape of y is (500,)\n"
     ]
    },
    {
     "data": {
      "text/plain": [
       "<matplotlib.legend.Legend at 0x201db3e7548>"
      ]
     },
     "execution_count": 3,
     "metadata": {},
     "output_type": "execute_result"
    },
    {
     "data": {
      "image/png": "[encoded data removed]",
      "text/plain": [
       "<Figure size 360x360 with 1 Axes>"
      ]
     },
     "metadata": {
      "needs_background": "light"
     },
     "output_type": "display_data"
    }
   ],
   "source": [
    "# PICK ONE PATTERN BELOW and comment out the rest.\n",
    "\n",
    "# # Circle pattern\n",
    "#y = (np.sqrt(x_mat_full[:,0]**2 + x_mat_full[:,1]**2)<.75).astype(int)\n",
    "\n",
    "# # Diamond Pattern\n",
    "y = ((np.abs(x_mat_full[:,0]) + np.abs(x_mat_full[:,1]))<1).astype(int)\n",
    "\n",
    "# # Centered square\n",
    "# y = ((np.maximum(np.abs(x_mat_full[:,0]), np.abs(x_mat_full[:,1])))<.5).astype(int)\n",
    "\n",
    "# # Thick Right Angle pattern\n",
    "# y = (((np.maximum((x_mat_full[:,0]), (x_mat_full[:,1])))<.5) & ((np.maximum((x_mat_full[:,0]), (x_mat_full[:,1])))>-.5)).astype(int)\n",
    "\n",
    "# # Thin right angle pattern\n",
    "# y = (((np.maximum((x_mat_full[:,0]), (x_mat_full[:,1])))<.5) & ((np.maximum((x_mat_full[:,0]), (x_mat_full[:,1])))>0)).astype(int)\n",
    "\n",
    "print('shape of x_mat_full is {}'.format(x_mat_full.shape))\n",
    "print('shape of y is {}'.format(y.shape))\n",
    "\n",
    "\n",
    "fig, ax = plt.subplots(figsize=(5, 5))\n",
    "ax.plot(x_mat_full[y==1, 0],x_mat_full[y==1, 1], 'ro', label='class 1', color='darkslateblue')\n",
    "ax.plot(x_mat_full[y==0, 0],x_mat_full[y==0, 1], 'bx', label='class 0', color='chocolate')\n",
    "ax.legend(loc='best')"
   ]
  },
  {
   "cell_type": "markdown",
   "metadata": {
    "colab_type": "text",
    "id": "kkxEzuUYoa5G"
   },
   "source": [
    "The code below gives you the building blocks of the MLP up to the backward pass, which you will write yourself."
   ]
  },
  {
   "cell_type": "code",
   "execution_count": 4,
   "metadata": {
    "colab": {},
    "colab_type": "code",
    "id": "ncDNpfVPotkq"
   },
   "outputs": [],
   "source": [
    "def multiplier(arr1, arr2):\n",
    "    '''this function plays the role of np.dot() multiplication'''\n",
    "    \n",
    "    #get the lenght of array 1\n",
    "    count = len(arr1)\n",
    "    # create a array of size lenght of array 1\n",
    "    product = np.zeros([count])\n",
    "    \n",
    "    #loop through the size of the array or for each row in our arrays\n",
    "    for i in range(count):\n",
    "        \n",
    "        #we get the product row wise\n",
    "        product[i] = np.dot(arr1[i], arr2[i])\n",
    "    return product.reshape(count,1) #and reshape it to 2D array of size (count,1)\n",
    "\n",
    "\n",
    "def multiplier2(arr1, arr2):\n",
    "    '''this function and add the '''\n",
    "    \n",
    "    #get the lenght of array 1\n",
    "    count = len(arr1)\n",
    "    # create a array of size lenght of array 1\n",
    "    product = np.zeros([count])\n",
    "    \n",
    "    #loop through the size of the array or for each row in our arrays\n",
    "    for i in range(count):\n",
    "        \n",
    "        # this time around we get the  product of array 1 row (i) i being the iterator which will change the index as \n",
    "        # and arra2 row wise of column 0 + row in array2 column 1\n",
    "        product[i] = (arr1[i] * arr2[i,0]) + arr2[i,1]\n",
    "        \n",
    "    return product.reshape(count,1)\n"
   ]
  },
  {
   "cell_type": "code",
   "execution_count": 5,
   "metadata": {},
   "outputs": [],
   "source": [
    "def sigmoid(x):\n",
    "    \"\"\"\n",
    "    Sigmoid function\n",
    "    \"\"\"\n",
    "    return 1.0 / (1.0 + np.exp(-x))\n",
    "\n",
    "\n",
    "def loss_fn(y_true, y_pred, eps=1e-16):\n",
    "    \"\"\"\n",
    "    Loss function we would like to optimize (minimize)\n",
    "    We are using Logarithmic Loss\n",
    "    http://scikit-learn.org/stable/modules/model_evaluation.html#log-loss\n",
    "    \"\"\"\n",
    "    y_pred = np.maximum(y_pred,eps)\n",
    "    y_pred = np.minimum(y_pred,(1-eps))\n",
    "    return -(np.sum(y_true * np.log(y_pred)) + np.sum((1-y_true)*np.log(1-y_pred)))/len(y_true)\n",
    "\n",
    "\n",
    "def forward_pass(W1, W2):\n",
    "    \"\"\"\n",
    "    Does a forward computation of the neural network\n",
    "    Takes the input `x_mat` (global variable) and produces the output `y_pred`\n",
    "    Also produces the gradient of the log loss function\n",
    "    \"\"\"\n",
    "    global x_mat\n",
    "    global y\n",
    "    global num_\n",
    "    # First, compute the new predictions `y_pred`\n",
    "    \n",
    "    #feed forward NN \n",
    "    #build our first layer by computing the input and the weight \n",
    "    z_2 = multiplier(x_mat, W1)\n",
    "    \n",
    "    #pass the product through our activation function ()\n",
    "    a_2 = sigmoid(z_2) #this is our first hidden layer \n",
    "    \n",
    "    # we use the output of our first hidden layer to build a second hidden layer \n",
    "    # so second hidden layer is the product of our first hidden layer and w2 \n",
    "    z_3 = multiplier2(a_2, W2)\n",
    "    \n",
    "    #now we pass the ouptput of the second hidden layer through an activaiton function and reshape it to a 1D array\n",
    "    # will be the output layer and final layer of our NN\n",
    "    y_pred = sigmoid(z_3).reshape((len(x_mat),))\n",
    "    \n",
    "    \n",
    "    # # backpropagation\n",
    "    \n",
    "    # Now compute the gradient\n",
    "    \n",
    "    #we start by computing the error or the difference between our final output and the expected result\n",
    "    J_z_3_grad = -y + y_pred\n",
    "    \n",
    "    #simply put the final output of the FNN is a guess it doesn't have to be true but we gonna use that to learn the pattern \n",
    "    #for that we gonna use gradient decent to minimize the error and learn the pattern\n",
    "    \n",
    "    \n",
    "    J_W_2_grad = np.dot(J_z_3_grad, a_2)\n",
    "    a_2_z_2_grad = sigmoid(z_2)*(1-sigmoid(z_2))\n",
    "    J_W_1_grad = (np.dot((J_z_3_grad).reshape(-1,1), W_2.reshape(-1,1).T)*a_2_z_2_grad).T.dot(x_mat).T\n",
    "    gradient = (J_W_1_grad, J_W_2_grad)\n",
    "    \n",
    "    # return\n",
    "    return y_pred, gradient\n",
    "\n",
    "\n",
    "def plot_loss_accuracy(loss_vals, accuracies):\n",
    "    fig = plt.figure(figsize=(16, 8))\n",
    "    fig.suptitle('Log Loss and Accuracy over iterations')\n",
    "    \n",
    "    ax = fig.add_subplot(1, 2, 1)\n",
    "    ax.plot(loss_vals)\n",
    "    ax.grid(True)\n",
    "    ax.set(xlabel='iterations', title='Log Loss')\n",
    "    \n",
    "    ax = fig.add_subplot(1, 2, 2)\n",
    "    ax.plot(accuracies)\n",
    "    ax.grid(True)\n",
    "    ax.set(xlabel='iterations', title='Accuracy');"
   ]
  },
  {
   "cell_type": "markdown",
   "metadata": {
    "colab_type": "text",
    "id": "G6GZ0OoMotkS"
   },
   "source": [
    "Fill out the code below so that it creates a multi-layer perceptron with a single hidden layer (with 4 nodes) and trains it via back-propagation.  Specifically your code should:\n",
    "\n",
    "1. Initialize the weights to random values between -1 and 1\n",
    "1. Perform the feed-forward computation\n",
    "1. Compute the loss function\n",
    "1. Calculate the gradients for all the weights via back-propagation\n",
    "1. Update the weight matrices (using a learning_rate parameter)\n",
    "1. Execute steps 2-5 for a fixed number of iterations\n",
    "1. Plot the accuracies and log loss and observe how they change over time"
   ]
  },
  {
   "cell_type": "markdown",
   "metadata": {
    "colab_type": "text",
    "collapsed": true,
    "id": "Sgy71Tkiotkw"
   },
   "source": [
    "First, initialise the parameters. This means determining the following:\n",
    "\n",
    "#### Size of the network\n",
    "\n",
    "Hidden layers (or a single hidden layer in this example) can be any size. Layers with more neurons are more powerful, but also more likely to overfit, and take longer to train.\n",
    "The output layer size corresponds to the number of classes.\n",
    "\n",
    "#### Number of iterations\n",
    "\n",
    "This parameter determines how many times the network will be updated. \n",
    "\n",
    "#### Learning rate\n",
    "\n",
    "Each time we update the weights, we do so by taking a step into the direction that we calculated will improve the accuracy of the network. The size of that step is determined by the learning rate. Taking small steps will slow the process down, but taking steps that are too large can cause results to vary wildly and not reach a stable optimum. "
   ]
  },
  {
   "cell_type": "markdown",
   "metadata": {
    "colab_type": "text",
    "id": "L79qV7hgoowP"
   },
   "source": [
    "Next, fill in the code below to train a multi-layer perceptron and see if it correctly classies the input."
   ]
  },
  {
   "cell_type": "code",
   "execution_count": 6,
   "metadata": {
    "colab": {},
    "colab_type": "code",
    "id": "d3NuckBhZYjG"
   },
   "outputs": [],
   "source": [
    "#### Initialize the network parameters\n",
    "\n",
    "np.random.seed(1241)\n",
    "\n",
    "#create a array with random number between -1 and 1, our array will the same dimension and same number of rows\n",
    "random_weights = np.random.uniform(-1,1,size = (num_obs,2)) # To Get random Weights for W_1\n",
    "\n",
    "\n",
    "bias_factor = np.ones((num_obs,1)) # A placeholder for bias in dot function\n",
    "#using the array with random number and the above with ones(bias) we put them together and that makes up our first weight\n",
    "W_1 = np.concatenate( (random_weights,bias_factor), axis=1)\n",
    "\n",
    "random_weights = np.random.uniform(-1,1,size = (num_obs,1)) # To get random weights for W_2\n",
    "bias_factor = np.ones((num_obs,1)) # A placeholder for Bias in dot function\n",
    "#using the array with random number and the above with ones(bias) we put them together and that makes up our second weight\n",
    "W_2 = np.concatenate( (random_weights,bias_factor), axis=1)\n",
    "\n",
    "num_iter = 3000\n",
    "learning_rate = 0.0009\n",
    "x_mat = x_mat_full"
   ]
  },
  {
   "cell_type": "code",
   "execution_count": 10,
   "metadata": {
    "colab": {},
    "colab_type": "code",
    "id": "Y6AHLQxYRBXl"
   },
   "outputs": [
    {
     "name": "stdout",
     "output_type": "stream",
     "text": [
      "0th interation\n",
      "Loss =======================  1 \n",
      "\n",
      "Accuracy ===================  0 \n",
      "\n",
      "\n",
      "200th interation\n",
      "Loss =======================  9 \n",
      "\n",
      "Accuracy ===================  9 \n",
      "\n",
      "\n"
     ]
    },
    {
     "name": "stderr",
     "output_type": "stream",
     "text": [
      "C:\\Users\\Nando\\Anaconda3\\envs\\tf\\lib\\site-packages\\ipykernel_launcher.py:5: RuntimeWarning: overflow encountered in exp\n",
      "  \"\"\"\n"
     ]
    },
    {
     "name": "stdout",
     "output_type": "stream",
     "text": [
      "400th interation\n",
      "Loss =======================  13 \n",
      "\n",
      "Accuracy ===================  24 \n",
      "\n",
      "\n",
      "600th interation\n",
      "Loss =======================  14 \n",
      "\n",
      "Accuracy ===================  22 \n",
      "\n",
      "\n",
      "800th interation\n",
      "Loss =======================  16 \n",
      "\n",
      "Accuracy ===================  23 \n",
      "\n",
      "\n",
      "1000th interation\n",
      "Loss =======================  17 \n",
      "\n",
      "Accuracy ===================  22 \n",
      "\n",
      "\n",
      "1200th interation\n",
      "Loss =======================  18 \n",
      "\n",
      "Accuracy ===================  36 \n",
      "\n",
      "\n",
      "1400th interation\n",
      "Loss =======================  18 \n",
      "\n",
      "Accuracy ===================  44 \n",
      "\n",
      "\n",
      "1600th interation\n",
      "Loss =======================  18 \n",
      "\n",
      "Accuracy ===================  45 \n",
      "\n",
      "\n",
      "1800th interation\n",
      "Loss =======================  18 \n",
      "\n",
      "Accuracy ===================  45 \n",
      "\n",
      "\n",
      "2000th interation\n",
      "Loss =======================  18 \n",
      "\n",
      "Accuracy ===================  45 \n",
      "\n",
      "\n",
      "2200th interation\n",
      "Loss =======================  19 \n",
      "\n",
      "Accuracy ===================  45 \n",
      "\n",
      "\n",
      "2400th interation\n",
      "Loss =======================  18 \n",
      "\n",
      "Accuracy ===================  44 \n",
      "\n",
      "\n",
      "2600th interation\n",
      "Loss =======================  17 \n",
      "\n",
      "Accuracy ===================  44 \n",
      "\n",
      "\n",
      "2800th interation\n",
      "Loss =======================  17 \n",
      "\n",
      "Accuracy ===================  44 \n",
      "\n",
      "\n"
     ]
    }
   ],
   "source": [
    "# Creating empty lists for loss values(error) and accuracy\n",
    "loss_vals, accuracies = [], []\n",
    "\n",
    "for j in range(num_iter):\n",
    "    # Do a forward pass through the dataset and compute the loss\n",
    "    y_pred, gradient = forward_pass(W_1, W_2)\n",
    "    # Decide on intervals and add on the current loss and accuracy to the respective list\n",
    "    ### Compute the loss and accuracy\n",
    "    loss = loss_fn(y, y_pred)\n",
    "    # Calculate the accuracy between y and y_pred\n",
    "    bool_arr = y == y_pred\n",
    "    correct = np.sum(bool_arr)\n",
    "    accuracy = correct / num_obs\n",
    "    # Add the values to the lists\n",
    "    loss_vals.append(loss)\n",
    "    accuracies.append(accuracy)\n",
    "    ## Print the loss and accuracy for every 200th iteration\n",
    "    if j % 200 == 0:\n",
    "        print(f\"{j}th interation\")\n",
    "        print('Loss ======================= ', round(loss), '\\n\\nAccuracy =================== ', round(accuracy*100),'\\n\\n')\n",
    "    \n",
    "    # Update the weights\n",
    "    for weight in range(num_obs):\n",
    "        W_1[weight, 0] += (gradient[0][0][weight] * learning_rate)\n",
    "        W_1[weight, 1] += (gradient[0][1][weight] * learning_rate)\n",
    "        W_2[weight, 0] += (gradient[0][2][weight] * learning_rate)\n"
   ]
  },
  {
   "cell_type": "code",
   "execution_count": 12,
   "metadata": {
    "colab": {
     "base_uri": "https://localhost:8080/",
     "height": 554
    },
    "colab_type": "code",
    "id": "ps5lVICiUrVa",
    "outputId": "7c2f4ba2-ee1b-445e-e9b8-c8597e6163f5"
   },
   "outputs": [
    {
     "data": {
      "image/png": "[encoded data removed]",
      "text/plain": [
       "<Figure size 1152x576 with 2 Axes>"
      ]
     },
     "metadata": {
      "needs_background": "light"
     },
     "output_type": "display_data"
    }
   ],
   "source": [
    "# Plot the loss values and accuracy\n",
    "plot_loss_accuracy(loss_vals, accuracies)"
   ]
  },
  {
   "cell_type": "markdown",
   "metadata": {},
   "source": [
    "The graph above shows that our model start dropping at about 2000th iteration.\n",
    "Based on that we can decide to set number of iteration to 2000th to avoid overfitting.\n",
    "alternatively we can adjust the learning rate for less iteration."
   ]
  },
  {
   "cell_type": "markdown",
   "metadata": {
    "colab_type": "text",
    "id": "lZrhOVE3-LDM"
   },
   "source": [
    "**Higher number of iterations and lower learning rate seems to improve accuracy**\n"
   ]
  },
  {
   "cell_type": "code",
   "execution_count": 13,
   "metadata": {},
   "outputs": [
    {
     "data": {
      "image/png": "[encoded data removed]",
      "text/plain": [
       "<Figure size 360x360 with 1 Axes>"
      ]
     },
     "metadata": {
      "needs_background": "light"
     },
     "output_type": "display_data"
    }
   ],
   "source": [
    "#### Plot the predicted answers with mistakes in yellow\n",
    "\n",
    "#compare the predicted and expected values and get their boolean results\n",
    "bool_arr = y == y_pred\n",
    "\n",
    "#set the figure and and axes\n",
    "fig, ax = plt.subplots(figsize=(5, 5))\n",
    "\n",
    "\n",
    "#plot the true boolean from the above comparison in blue\n",
    "ax.plot(x_mat_full[bool_arr == True, 0], x_mat_full[bool_arr == True, 1], '*', label='Correct', color='darkslateblue')\n",
    "\n",
    "#and so we do the with the mistake in yellow\n",
    "\n",
    "ax.plot(x_mat_full[bool_arr == False, 0], x_mat_full[bool_arr == False, 1], 'o', label='Incorrect', color='yellow')\n",
    "ax.legend(loc='best')\n",
    "ax.axis('equal');"
   ]
  },
  {
   "cell_type": "code",
   "execution_count": null,
   "metadata": {},
   "outputs": [],
   "source": []
  }
 ],
 "metadata": {
  "colab": {
   "collapsed_sections": [],
   "name": "Backprop_Test.ipynb",
   "provenance": []
  },
  "kernelspec": {
   "display_name": "Python 3",
   "language": "python",
   "name": "python3"
  },
  "language_info": {
   "codemirror_mode": {
    "name": "ipython",
    "version": 3
   },
   "file_extension": ".py",
   "mimetype": "text/x-python",
   "name": "python",
   "nbconvert_exporter": "python",
   "pygments_lexer": "ipython3",
   "version": "3.7.9"
  }
 },
 "nbformat": 4,
 "nbformat_minor": 1
}
