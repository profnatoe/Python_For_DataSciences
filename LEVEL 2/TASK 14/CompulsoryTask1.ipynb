{
 "metadata": {
  "language_info": {
   "codemirror_mode": {
    "name": "ipython",
    "version": 3
   },
   "file_extension": ".py",
   "mimetype": "text/x-python",
   "name": "python",
   "nbconvert_exporter": "python",
   "pygments_lexer": "ipython3",
   "version": "3.8.5-final"
  },
  "orig_nbformat": 2,
  "kernelspec": {
   "name": "Python 3.8.5 64-bit",
   "display_name": "Python 3.8.5 64-bit",
   "metadata": {
    "interpreter": {
     "hash": "2db524e06e9f5f4ffedc911c917cb75e12dbc923643829bf417064a77eb14d37"
    }
   }
  }
 },
 "nbformat": 4,
 "nbformat_minor": 2,
 "cells": [
  {
   "cell_type": "code",
   "execution_count": 33,
   "metadata": {},
   "outputs": [],
   "source": [
    "#Reading from the csv\n",
    "\n",
    "import pandas as pd\n",
    "pakistan = pd.read_csv(\"Pakistan.csv\"\n",
    "                              ,encoding = 'unicode_escape'\n",
    ")\n",
    "\n",
    "\n"
   ]
  },
  {
   "cell_type": "code",
   "execution_count": 34,
   "metadata": {},
   "outputs": [
    {
     "output_type": "execute_result",
     "data": {
      "text/plain": [
       "      S#              Date                   Islamic Date Blast Day Type  \\\n",
       "0      1  November 19-1995  25 Jumaada al-THaany 1416 A.H        Holiday   \n",
       "1      2   November 6-2000           10 SHa`baan 1421 A.H    Working Day   \n",
       "2      3        May 8-2002              25 safar 1423 A.H    Working Day   \n",
       "3      4      June 14-2002     3 Raby` al-THaany 1423 A.H    Working Day   \n",
       "4      5       July 4-2003     4 Jumaada al-awal 1424 A.H    Working Day   \n",
       "..   ...               ...                            ...            ...   \n",
       "491  492   October 05-2017           13 MuHarram 1439 A.H    Working Day   \n",
       "492  493   October 19-2017           27 MuHarram 1439 A.H    Working Day   \n",
       "493  494   November 9-2017              19 Safar 1439 A.H    Working Day   \n",
       "494  495  November 24-2017       5 Rabi Al-Awwal 1439 A.H    Working Day   \n",
       "495  496  November 25-2017       6 Rabi Al-Awwal 1439 A.H    Working Day   \n",
       "\n",
       "    Holiday Type  \n",
       "0        Weekend  \n",
       "1            NaN  \n",
       "2            NaN  \n",
       "3            NaN  \n",
       "4            NaN  \n",
       "..           ...  \n",
       "491          NaN  \n",
       "492          NaN  \n",
       "493          NaN  \n",
       "494          NaN  \n",
       "495          NaN  \n",
       "\n",
       "[496 rows x 5 columns]"
      ],
      "text/html": "<div>\n<style scoped>\n    .dataframe tbody tr th:only-of-type {\n        vertical-align: middle;\n    }\n\n    .dataframe tbody tr th {\n        vertical-align: top;\n    }\n\n    .dataframe thead th {\n        text-align: right;\n    }\n</style>\n<table border=\"1\" class=\"dataframe\">\n  <thead>\n    <tr style=\"text-align: right;\">\n      <th></th>\n      <th>S#</th>\n      <th>Date</th>\n      <th>Islamic Date</th>\n      <th>Blast Day Type</th>\n      <th>Holiday Type</th>\n    </tr>\n  </thead>\n  <tbody>\n    <tr>\n      <th>0</th>\n      <td>1</td>\n      <td>November 19-1995</td>\n      <td>25 Jumaada al-THaany 1416 A.H</td>\n      <td>Holiday</td>\n      <td>Weekend</td>\n    </tr>\n    <tr>\n      <th>1</th>\n      <td>2</td>\n      <td>November 6-2000</td>\n      <td>10 SHa`baan 1421 A.H</td>\n      <td>Working Day</td>\n      <td>NaN</td>\n    </tr>\n    <tr>\n      <th>2</th>\n      <td>3</td>\n      <td>May 8-2002</td>\n      <td>25 safar 1423 A.H</td>\n      <td>Working Day</td>\n      <td>NaN</td>\n    </tr>\n    <tr>\n      <th>3</th>\n      <td>4</td>\n      <td>June 14-2002</td>\n      <td>3 Raby` al-THaany 1423 A.H</td>\n      <td>Working Day</td>\n      <td>NaN</td>\n    </tr>\n    <tr>\n      <th>4</th>\n      <td>5</td>\n      <td>July 4-2003</td>\n      <td>4 Jumaada al-awal 1424 A.H</td>\n      <td>Working Day</td>\n      <td>NaN</td>\n    </tr>\n    <tr>\n      <th>...</th>\n      <td>...</td>\n      <td>...</td>\n      <td>...</td>\n      <td>...</td>\n      <td>...</td>\n    </tr>\n    <tr>\n      <th>491</th>\n      <td>492</td>\n      <td>October 05-2017</td>\n      <td>13 MuHarram 1439 A.H</td>\n      <td>Working Day</td>\n      <td>NaN</td>\n    </tr>\n    <tr>\n      <th>492</th>\n      <td>493</td>\n      <td>October 19-2017</td>\n      <td>27 MuHarram 1439 A.H</td>\n      <td>Working Day</td>\n      <td>NaN</td>\n    </tr>\n    <tr>\n      <th>493</th>\n      <td>494</td>\n      <td>November 9-2017</td>\n      <td>19 Safar 1439 A.H</td>\n      <td>Working Day</td>\n      <td>NaN</td>\n    </tr>\n    <tr>\n      <th>494</th>\n      <td>495</td>\n      <td>November 24-2017</td>\n      <td>5 Rabi Al-Awwal 1439 A.H</td>\n      <td>Working Day</td>\n      <td>NaN</td>\n    </tr>\n    <tr>\n      <th>495</th>\n      <td>496</td>\n      <td>November 25-2017</td>\n      <td>6 Rabi Al-Awwal 1439 A.H</td>\n      <td>Working Day</td>\n      <td>NaN</td>\n    </tr>\n  </tbody>\n</table>\n<p>496 rows × 5 columns</p>\n</div>"
     },
     "metadata": {},
     "execution_count": 34
    }
   ],
   "source": [
    "#display the first 5 columns\n",
    "\n",
    "pakistan.iloc[:,:5]"
   ]
  },
  {
   "cell_type": "code",
   "execution_count": 37,
   "metadata": {},
   "outputs": [
    {
     "output_type": "execute_result",
     "data": {
      "text/plain": [
       "S#                           0\n",
       "Date                         0\n",
       "Islamic Date               154\n",
       "Blast Day Type              10\n",
       "Holiday Type               424\n",
       "Time                       211\n",
       "City                         0\n",
       "Latitude                     3\n",
       "Longitude                    3\n",
       "Province                     0\n",
       "Location                     3\n",
       "Location Category           35\n",
       "Location Sensitivity        36\n",
       "Open/Closed Space           35\n",
       "Influencing Event/Event    305\n",
       "Target Type                 26\n",
       "Targeted Sect if any        48\n",
       "Killed Min                 146\n",
       "Killed Max                  16\n",
       "Injured Min                131\n",
       "Injured Max                 32\n",
       "No. of Suicide Blasts       82\n",
       "Explosive Weight (max)     324\n",
       "Hospital Names             199\n",
       "Temperature(C)               5\n",
       "Temperature(F)               7\n",
       "dtype: int64"
      ]
     },
     "metadata": {},
     "execution_count": 37
    }
   ],
   "source": [
    "#Get number of missing data points per column\n",
    "# \n",
    "#Describe the dataframe\n",
    "#\n",
    "# pakistan.describe()\n",
    "\n",
    "pakistan.isnull().sum(axis = 0)\n",
    "#if we don't consider nan values then use the following\n",
    "# num_missing = (pakistan.iloc[:,:] == 0).sum()\n",
    "\n",
    "# report the results\n",
    "#print(num_missing)\n"
   ]
  },
  {
   "cell_type": "code",
   "execution_count": null,
   "metadata": {},
   "outputs": [],
   "source": []
  },
  {
   "cell_type": "code",
   "execution_count": 20,
   "metadata": {},
   "outputs": [
    {
     "output_type": "execute_result",
     "data": {
      "text/plain": [
       "   S#              Date                   Islamic Date Blast Day Type  \\\n",
       "0   1  November 19-1995  25 Jumaada al-THaany 1416 A.H        Holiday   \n",
       "1   2   November 6-2000           10 SHa`baan 1421 A.H    Working Day   \n",
       "2   3        May 8-2002              25 safar 1423 A.H    Working Day   \n",
       "3   4      June 14-2002     3 Raby` al-THaany 1423 A.H    Working Day   \n",
       "4   5       July 4-2003     4 Jumaada al-awal 1424 A.H    Working Day   \n",
       "5   6  December 25-2003      2 Thw al-Qi`dah 1424 A.H.        Holiday   \n",
       "6   7  February 28-2004            8 MuHarram 1425 A.H    Working Day   \n",
       "7   8        May 7-2004      18 Raby` al-awal 1425 A.H    Working Day   \n",
       "8   9       May 31-2004                            NaN    Working Day   \n",
       "9  10       June 3-2004    15 Raby` al-THaany 1425 A.H    Working Day   \n",
       "\n",
       "                         Holiday Type                   Time  \\\n",
       "0                             Weekend                    NaN   \n",
       "1                                 NaN                    NaN   \n",
       "2                                 NaN                7:45 AM   \n",
       "3                                 NaN            11:10:00 AM   \n",
       "4                                 NaN                    NaN   \n",
       "5  Christmas/birthday of Quaid-e-Azam  1:40:00 PM/1:42:00 PM   \n",
       "6                                 NaN                    NaN   \n",
       "7                                 NaN     1:20:00/1:17:00 PM   \n",
       "8                                 NaN                evening   \n",
       "9                                 NaN                    NaN   \n",
       "\n",
       "               City  Latitude Longitude     Province  ...  \\\n",
       "0         Islamabad   33.7180   73.0718      Capital  ...   \n",
       "1           Karachi   24.9918   66.9911        Sindh  ...   \n",
       "2          Karachi    24.9918   66.9911        Sindh  ...   \n",
       "3           Karachi   24.9918   66.9911        Sindh  ...   \n",
       "4            Quetta   30.2095   67.0182  Baluchistan  ...   \n",
       "5        Rawalpindi   33.6058   73.0437       Punjab  ...   \n",
       "6        Rawalpindi   33.6058   73.0437       Punjab  ...   \n",
       "7          Karachi    24.9918   66.9911        Sindh  ...   \n",
       "8          Karachi    24.9918   66.9911        Sindh  ...   \n",
       "9  North waziristan   32.9746   70.1456         FATA  ...   \n",
       "\n",
       "  Targeted Sect if any Killed Min Killed Max Injured Min Injured Max  \\\n",
       "0                 None       14.0       15.0         NaN          60   \n",
       "1                 None        NaN        3.0         NaN           3   \n",
       "2            Christian       13.0       15.0        20.0          40   \n",
       "3            Christian        NaN       12.0         NaN          51   \n",
       "4               Shiite       44.0       47.0         NaN          65   \n",
       "5                 None       16.0       18.0         NaN          50   \n",
       "6               shiite        NaN        1.0         3.0           4   \n",
       "7               shiite       14.0       15.0        96.0         200   \n",
       "8               Shiite       16.0       18.0         NaN          35   \n",
       "9                 None        NaN        2.0         NaN           2   \n",
       "\n",
       "  No. of Suicide Blasts Explosive Weight (max)  \\\n",
       "0                   2.0                    NaN   \n",
       "1                   1.0                    NaN   \n",
       "2                   1.0                 2.5 Kg   \n",
       "3                   1.0                    NaN   \n",
       "4                   1.0                    NaN   \n",
       "5                   2.0       30kg in each car   \n",
       "6                   1.0                    NaN   \n",
       "7                   1.0                    2kg   \n",
       "8                   1.0                    NaN   \n",
       "9                   1.0                    NaN   \n",
       "\n",
       "                                      Hospital Names  Temperature(C)  \\\n",
       "0                                                NaN          15.835   \n",
       "1                                                NaN          23.770   \n",
       "2  1.Jinnah Postgraduate Medical Center 2. Civil ...          31.460   \n",
       "3                                                NaN          31.430   \n",
       "4  1.CMH Quetta \\n2.Civil Hospital 3. Boland Medi...          33.120   \n",
       "5                1.District headquarters \\nHospital            9.445   \n",
       "6                                                NaN          15.275   \n",
       "7                                    Civil hospital           33.860   \n",
       "8  Civil hospital-Liaquat National hospital-Jinna...          31.605   \n",
       "9                                                NaN          27.180   \n",
       "\n",
       "   Temperature(F)  \n",
       "0          60.503  \n",
       "1          74.786  \n",
       "2          88.628  \n",
       "3          88.574  \n",
       "4          91.616  \n",
       "5          49.001  \n",
       "6          59.495  \n",
       "7          92.948  \n",
       "8          88.889  \n",
       "9          80.924  \n",
       "\n",
       "[10 rows x 26 columns]"
      ],
      "text/html": "<div>\n<style scoped>\n    .dataframe tbody tr th:only-of-type {\n        vertical-align: middle;\n    }\n\n    .dataframe tbody tr th {\n        vertical-align: top;\n    }\n\n    .dataframe thead th {\n        text-align: right;\n    }\n</style>\n<table border=\"1\" class=\"dataframe\">\n  <thead>\n    <tr style=\"text-align: right;\">\n      <th></th>\n      <th>S#</th>\n      <th>Date</th>\n      <th>Islamic Date</th>\n      <th>Blast Day Type</th>\n      <th>Holiday Type</th>\n      <th>Time</th>\n      <th>City</th>\n      <th>Latitude</th>\n      <th>Longitude</th>\n      <th>Province</th>\n      <th>...</th>\n      <th>Targeted Sect if any</th>\n      <th>Killed Min</th>\n      <th>Killed Max</th>\n      <th>Injured Min</th>\n      <th>Injured Max</th>\n      <th>No. of Suicide Blasts</th>\n      <th>Explosive Weight (max)</th>\n      <th>Hospital Names</th>\n      <th>Temperature(C)</th>\n      <th>Temperature(F)</th>\n    </tr>\n  </thead>\n  <tbody>\n    <tr>\n      <th>0</th>\n      <td>1</td>\n      <td>November 19-1995</td>\n      <td>25 Jumaada al-THaany 1416 A.H</td>\n      <td>Holiday</td>\n      <td>Weekend</td>\n      <td>NaN</td>\n      <td>Islamabad</td>\n      <td>33.7180</td>\n      <td>73.0718</td>\n      <td>Capital</td>\n      <td>...</td>\n      <td>None</td>\n      <td>14.0</td>\n      <td>15.0</td>\n      <td>NaN</td>\n      <td>60</td>\n      <td>2.0</td>\n      <td>NaN</td>\n      <td>NaN</td>\n      <td>15.835</td>\n      <td>60.503</td>\n    </tr>\n    <tr>\n      <th>1</th>\n      <td>2</td>\n      <td>November 6-2000</td>\n      <td>10 SHa`baan 1421 A.H</td>\n      <td>Working Day</td>\n      <td>NaN</td>\n      <td>NaN</td>\n      <td>Karachi</td>\n      <td>24.9918</td>\n      <td>66.9911</td>\n      <td>Sindh</td>\n      <td>...</td>\n      <td>None</td>\n      <td>NaN</td>\n      <td>3.0</td>\n      <td>NaN</td>\n      <td>3</td>\n      <td>1.0</td>\n      <td>NaN</td>\n      <td>NaN</td>\n      <td>23.770</td>\n      <td>74.786</td>\n    </tr>\n    <tr>\n      <th>2</th>\n      <td>3</td>\n      <td>May 8-2002</td>\n      <td>25 safar 1423 A.H</td>\n      <td>Working Day</td>\n      <td>NaN</td>\n      <td>7:45 AM</td>\n      <td>Karachi</td>\n      <td>24.9918</td>\n      <td>66.9911</td>\n      <td>Sindh</td>\n      <td>...</td>\n      <td>Christian</td>\n      <td>13.0</td>\n      <td>15.0</td>\n      <td>20.0</td>\n      <td>40</td>\n      <td>1.0</td>\n      <td>2.5 Kg</td>\n      <td>1.Jinnah Postgraduate Medical Center 2. Civil ...</td>\n      <td>31.460</td>\n      <td>88.628</td>\n    </tr>\n    <tr>\n      <th>3</th>\n      <td>4</td>\n      <td>June 14-2002</td>\n      <td>3 Raby` al-THaany 1423 A.H</td>\n      <td>Working Day</td>\n      <td>NaN</td>\n      <td>11:10:00 AM</td>\n      <td>Karachi</td>\n      <td>24.9918</td>\n      <td>66.9911</td>\n      <td>Sindh</td>\n      <td>...</td>\n      <td>Christian</td>\n      <td>NaN</td>\n      <td>12.0</td>\n      <td>NaN</td>\n      <td>51</td>\n      <td>1.0</td>\n      <td>NaN</td>\n      <td>NaN</td>\n      <td>31.430</td>\n      <td>88.574</td>\n    </tr>\n    <tr>\n      <th>4</th>\n      <td>5</td>\n      <td>July 4-2003</td>\n      <td>4 Jumaada al-awal 1424 A.H</td>\n      <td>Working Day</td>\n      <td>NaN</td>\n      <td>NaN</td>\n      <td>Quetta</td>\n      <td>30.2095</td>\n      <td>67.0182</td>\n      <td>Baluchistan</td>\n      <td>...</td>\n      <td>Shiite</td>\n      <td>44.0</td>\n      <td>47.0</td>\n      <td>NaN</td>\n      <td>65</td>\n      <td>1.0</td>\n      <td>NaN</td>\n      <td>1.CMH Quetta \\n2.Civil Hospital 3. Boland Medi...</td>\n      <td>33.120</td>\n      <td>91.616</td>\n    </tr>\n    <tr>\n      <th>5</th>\n      <td>6</td>\n      <td>December 25-2003</td>\n      <td>2 Thw al-Qi`dah 1424 A.H.</td>\n      <td>Holiday</td>\n      <td>Christmas/birthday of Quaid-e-Azam</td>\n      <td>1:40:00 PM/1:42:00 PM</td>\n      <td>Rawalpindi</td>\n      <td>33.6058</td>\n      <td>73.0437</td>\n      <td>Punjab</td>\n      <td>...</td>\n      <td>None</td>\n      <td>16.0</td>\n      <td>18.0</td>\n      <td>NaN</td>\n      <td>50</td>\n      <td>2.0</td>\n      <td>30kg in each car</td>\n      <td>1.District headquarters \\nHospital</td>\n      <td>9.445</td>\n      <td>49.001</td>\n    </tr>\n    <tr>\n      <th>6</th>\n      <td>7</td>\n      <td>February 28-2004</td>\n      <td>8 MuHarram 1425 A.H</td>\n      <td>Working Day</td>\n      <td>NaN</td>\n      <td>NaN</td>\n      <td>Rawalpindi</td>\n      <td>33.6058</td>\n      <td>73.0437</td>\n      <td>Punjab</td>\n      <td>...</td>\n      <td>shiite</td>\n      <td>NaN</td>\n      <td>1.0</td>\n      <td>3.0</td>\n      <td>4</td>\n      <td>1.0</td>\n      <td>NaN</td>\n      <td>NaN</td>\n      <td>15.275</td>\n      <td>59.495</td>\n    </tr>\n    <tr>\n      <th>7</th>\n      <td>8</td>\n      <td>May 7-2004</td>\n      <td>18 Raby` al-awal 1425 A.H</td>\n      <td>Working Day</td>\n      <td>NaN</td>\n      <td>1:20:00/1:17:00 PM</td>\n      <td>Karachi</td>\n      <td>24.9918</td>\n      <td>66.9911</td>\n      <td>Sindh</td>\n      <td>...</td>\n      <td>shiite</td>\n      <td>14.0</td>\n      <td>15.0</td>\n      <td>96.0</td>\n      <td>200</td>\n      <td>1.0</td>\n      <td>2kg</td>\n      <td>Civil hospital</td>\n      <td>33.860</td>\n      <td>92.948</td>\n    </tr>\n    <tr>\n      <th>8</th>\n      <td>9</td>\n      <td>May 31-2004</td>\n      <td>NaN</td>\n      <td>Working Day</td>\n      <td>NaN</td>\n      <td>evening</td>\n      <td>Karachi</td>\n      <td>24.9918</td>\n      <td>66.9911</td>\n      <td>Sindh</td>\n      <td>...</td>\n      <td>Shiite</td>\n      <td>16.0</td>\n      <td>18.0</td>\n      <td>NaN</td>\n      <td>35</td>\n      <td>1.0</td>\n      <td>NaN</td>\n      <td>Civil hospital-Liaquat National hospital-Jinna...</td>\n      <td>31.605</td>\n      <td>88.889</td>\n    </tr>\n    <tr>\n      <th>9</th>\n      <td>10</td>\n      <td>June 3-2004</td>\n      <td>15 Raby` al-THaany 1425 A.H</td>\n      <td>Working Day</td>\n      <td>NaN</td>\n      <td>NaN</td>\n      <td>North waziristan</td>\n      <td>32.9746</td>\n      <td>70.1456</td>\n      <td>FATA</td>\n      <td>...</td>\n      <td>None</td>\n      <td>NaN</td>\n      <td>2.0</td>\n      <td>NaN</td>\n      <td>2</td>\n      <td>1.0</td>\n      <td>NaN</td>\n      <td>NaN</td>\n      <td>27.180</td>\n      <td>80.924</td>\n    </tr>\n  </tbody>\n</table>\n<p>10 rows × 26 columns</p>\n</div>"
     },
     "metadata": {},
     "execution_count": 20
    }
   ],
   "source": [
    "#Looking at the first 10 columns \n",
    "pakistan.head(10)\n",
    "# the reason why I think we have missing data on the top three columns: Islamic date, Holiday type and Time is because:\n",
    "#The islamic calenda has 29 or 30 days per month. and of those specified days not everyday is a holiday in pakistan. With regards to time this must because of the difficulty in acurretly recording the time or trust issues between the source and the colector of the data.\n",
    "\n",
    "\n",
    "#Missing Categories\n",
    "\n",
    "# 1) Islamic Holiday:  - Missing Completely at random\n",
    "# 2) Holiday Type: - Missing at random\n",
    "# 3) Time: - Missing not at random => "
   ]
  },
  {
   "cell_type": "code",
   "execution_count": null,
   "metadata": {},
   "outputs": [],
   "source": []
  }
 ]
}